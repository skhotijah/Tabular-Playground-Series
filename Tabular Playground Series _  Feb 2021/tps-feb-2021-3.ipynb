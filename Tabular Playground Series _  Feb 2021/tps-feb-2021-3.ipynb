{
 "cells": [
  {
   "cell_type": "code",
   "execution_count": 1,
   "metadata": {
    "_cell_guid": "b1076dfc-b9ad-4769-8c92-a6c4dae69d19",
    "_uuid": "8f2839f25d086af736a60e9eeb907d3b93b6e0e5",
    "execution": {
     "iopub.execute_input": "2021-02-17T17:04:54.084983Z",
     "iopub.status.busy": "2021-02-17T17:04:54.084328Z",
     "iopub.status.idle": "2021-02-17T17:04:56.660503Z",
     "shell.execute_reply": "2021-02-17T17:04:56.660970Z"
    },
    "papermill": {
     "duration": 2.593609,
     "end_time": "2021-02-17T17:04:56.661276",
     "exception": false,
     "start_time": "2021-02-17T17:04:54.067667",
     "status": "completed"
    },
    "tags": []
   },
   "outputs": [
    {
     "data": {
      "text/html": [
       "<style type='text/css'>\n",
       ".datatable table.frame { margin-bottom: 0; }\n",
       ".datatable table.frame thead { border-bottom: none; }\n",
       ".datatable table.frame tr.coltypes td {  color: #FFFFFF;  line-height: 6px;  padding: 0 0.5em;}\n",
       ".datatable .bool    { background: #DDDD99; }\n",
       ".datatable .object  { background: #565656; }\n",
       ".datatable .int     { background: #5D9E5D; }\n",
       ".datatable .float   { background: #4040CC; }\n",
       ".datatable .str     { background: #CC4040; }\n",
       ".datatable .row_index {  background: var(--jp-border-color3);  border-right: 1px solid var(--jp-border-color0);  color: var(--jp-ui-font-color3);  font-size: 9px;}\n",
       ".datatable .frame tr.coltypes .row_index {  background: var(--jp-border-color0);}\n",
       ".datatable th:nth-child(2) { padding-left: 12px; }\n",
       ".datatable .hellipsis {  color: var(--jp-cell-editor-border-color);}\n",
       ".datatable .vellipsis {  background: var(--jp-layout-color0);  color: var(--jp-cell-editor-border-color);}\n",
       ".datatable .na {  color: var(--jp-cell-editor-border-color);  font-size: 80%;}\n",
       ".datatable .footer { font-size: 9px; }\n",
       ".datatable .frame_dimensions {  background: var(--jp-border-color3);  border-top: 1px solid var(--jp-border-color0);  color: var(--jp-ui-font-color3);  display: inline-block;  opacity: 0.6;  padding: 1px 10px 1px 5px;}\n",
       "</style>\n"
      ],
      "text/plain": [
       "<IPython.core.display.HTML object>"
      ]
     },
     "metadata": {},
     "output_type": "display_data"
    },
    {
     "name": "stdout",
     "output_type": "stream",
     "text": [
      "/kaggle/input/tabular-playground-series-feb-2021/sample_submission.csv\n",
      "/kaggle/input/tabular-playground-series-feb-2021/train.csv\n",
      "/kaggle/input/tabular-playground-series-feb-2021/test.csv\n"
     ]
    }
   ],
   "source": [
    "import pandas as pd\n",
    "import numpy as np\n",
    "import matplotlib.pyplot as plt\n",
    "from pandas_profiling import ProfileReport\n",
    "from lightgbm import LGBMRegressor\n",
    "from sklearn.preprocessing import LabelEncoder\n",
    "from sklearn.model_selection import KFold, StratifiedKFold, GroupKFold\n",
    "from tqdm.notebook import tqdm\n",
    "from sklearn.preprocessing import LabelEncoder\n",
    "import datetime\n",
    "from sklearn.metrics import mean_squared_error, mean_absolute_error\n",
    "import gc\n",
    "import os\n",
    "for dirname, _, filenames in os.walk('/kaggle/input'):\n",
    "    for filename in filenames:\n",
    "        print(os.path.join(dirname, filename))"
   ]
  },
  {
   "cell_type": "code",
   "execution_count": 2,
   "metadata": {
    "execution": {
     "iopub.execute_input": "2021-02-17T17:04:56.687411Z",
     "iopub.status.busy": "2021-02-17T17:04:56.686824Z",
     "iopub.status.idle": "2021-02-17T17:04:56.690369Z",
     "shell.execute_reply": "2021-02-17T17:04:56.691095Z"
    },
    "papermill": {
     "duration": 0.019149,
     "end_time": "2021-02-17T17:04:56.691262",
     "exception": false,
     "start_time": "2021-02-17T17:04:56.672113",
     "status": "completed"
    },
    "tags": []
   },
   "outputs": [
    {
     "name": "stdout",
     "output_type": "stream",
     "text": [
      "/kaggle/input/tabular-playground-series-feb-2021/sample_submission.csv\n",
      "/kaggle/input/tabular-playground-series-feb-2021/train.csv\n",
      "/kaggle/input/tabular-playground-series-feb-2021/test.csv\n"
     ]
    }
   ],
   "source": [
    "# Input data files are available in the read-only \"../input/\" directory\n",
    "# For example, running this (by clicking run or pressing Shift+Enter) will list all files under the input directory\n",
    "\n",
    "import os\n",
    "for dirname, _, filenames in os.walk('/kaggle/input'):\n",
    "    for filename in filenames:\n",
    "        print(os.path.join(dirname, filename))\n",
    "\n",
    "# You can write up to 20GB to the current directory (/kaggle/working/) that gets preserved as output when you create a version using \"Save & Run All\" \n",
    "# You can also write temporary files to /kaggle/temp/, but they won't be saved outside of the current session"
   ]
  },
  {
   "cell_type": "code",
   "execution_count": 3,
   "metadata": {
    "execution": {
     "iopub.execute_input": "2021-02-17T17:04:56.714401Z",
     "iopub.status.busy": "2021-02-17T17:04:56.713818Z",
     "iopub.status.idle": "2021-02-17T17:05:00.761712Z",
     "shell.execute_reply": "2021-02-17T17:05:00.761062Z"
    },
    "papermill": {
     "duration": 4.060556,
     "end_time": "2021-02-17T17:05:00.761856",
     "exception": false,
     "start_time": "2021-02-17T17:04:56.701300",
     "status": "completed"
    },
    "tags": []
   },
   "outputs": [],
   "source": [
    "train = pd.read_csv('../input/tabular-playground-series-feb-2021/train.csv')\n",
    "test = pd.read_csv('../input/tabular-playground-series-feb-2021/test.csv')\n",
    "sub = pd.read_csv('../input/tabular-playground-series-feb-2021/sample_submission.csv')"
   ]
  },
  {
   "cell_type": "code",
   "execution_count": 4,
   "metadata": {
    "execution": {
     "iopub.execute_input": "2021-02-17T17:05:00.788860Z",
     "iopub.status.busy": "2021-02-17T17:05:00.787995Z",
     "iopub.status.idle": "2021-02-17T17:05:00.793040Z",
     "shell.execute_reply": "2021-02-17T17:05:00.792498Z"
    },
    "papermill": {
     "duration": 0.02114,
     "end_time": "2021-02-17T17:05:00.793188",
     "exception": false,
     "start_time": "2021-02-17T17:05:00.772048",
     "status": "completed"
    },
    "tags": []
   },
   "outputs": [
    {
     "data": {
      "text/plain": [
       "Index(['cat0', 'cat1', 'cat2', 'cat3', 'cat4', 'cat5', 'cat6', 'cat7', 'cat8',\n",
       "       'cat9', 'cont0', 'cont1', 'cont2', 'cont3', 'cont4', 'cont5', 'cont6',\n",
       "       'cont7', 'cont8', 'cont9', 'cont10', 'cont11', 'cont12', 'cont13'],\n",
       "      dtype='object')"
      ]
     },
     "execution_count": 4,
     "metadata": {},
     "output_type": "execute_result"
    }
   ],
   "source": [
    "columns = test.columns[1:]\n",
    "columns"
   ]
  },
  {
   "cell_type": "code",
   "execution_count": 5,
   "metadata": {
    "execution": {
     "iopub.execute_input": "2021-02-17T17:05:00.828251Z",
     "iopub.status.busy": "2021-02-17T17:05:00.827432Z",
     "iopub.status.idle": "2021-02-17T17:05:00.830675Z",
     "shell.execute_reply": "2021-02-17T17:05:00.830192Z"
    },
    "papermill": {
     "duration": 0.027315,
     "end_time": "2021-02-17T17:05:00.830826",
     "exception": false,
     "start_time": "2021-02-17T17:05:00.803511",
     "status": "completed"
    },
    "tags": []
   },
   "outputs": [],
   "source": [
    "target = train['target'].values\n"
   ]
  },
  {
   "cell_type": "code",
   "execution_count": 6,
   "metadata": {
    "execution": {
     "iopub.execute_input": "2021-02-17T17:05:00.857786Z",
     "iopub.status.busy": "2021-02-17T17:05:00.856843Z",
     "iopub.status.idle": "2021-02-17T17:05:00.861023Z",
     "shell.execute_reply": "2021-02-17T17:05:00.860523Z"
    },
    "papermill": {
     "duration": 0.020013,
     "end_time": "2021-02-17T17:05:00.861168",
     "exception": false,
     "start_time": "2021-02-17T17:05:00.841155",
     "status": "completed"
    },
    "tags": []
   },
   "outputs": [
    {
     "data": {
      "text/plain": [
       "Index(['cat0', 'cat1', 'cat2', 'cat3', 'cat4', 'cat5', 'cat6', 'cat7', 'cat8',\n",
       "       'cat9'],\n",
       "      dtype='object')"
      ]
     },
     "execution_count": 6,
     "metadata": {},
     "output_type": "execute_result"
    }
   ],
   "source": [
    "cat_features = columns[:10]\n",
    "cat_features"
   ]
  },
  {
   "cell_type": "code",
   "execution_count": 7,
   "metadata": {
    "execution": {
     "iopub.execute_input": "2021-02-17T17:05:00.905488Z",
     "iopub.status.busy": "2021-02-17T17:05:00.899662Z",
     "iopub.status.idle": "2021-02-17T17:05:01.891946Z",
     "shell.execute_reply": "2021-02-17T17:05:01.892389Z"
    },
    "papermill": {
     "duration": 1.020597,
     "end_time": "2021-02-17T17:05:01.892582",
     "exception": false,
     "start_time": "2021-02-17T17:05:00.871985",
     "status": "completed"
    },
    "tags": []
   },
   "outputs": [],
   "source": [
    "for feature in cat_features:\n",
    "    le = LabelEncoder()\n",
    "    le.fit(train[feature])\n",
    "    train[feature] = le.transform(train[feature])\n",
    "    test[feature] = le.transform(test[feature])"
   ]
  },
  {
   "cell_type": "code",
   "execution_count": 8,
   "metadata": {
    "execution": {
     "iopub.execute_input": "2021-02-17T17:05:01.924551Z",
     "iopub.status.busy": "2021-02-17T17:05:01.923712Z",
     "iopub.status.idle": "2021-02-17T17:05:01.949376Z",
     "shell.execute_reply": "2021-02-17T17:05:01.948773Z"
    },
    "papermill": {
     "duration": 0.04569,
     "end_time": "2021-02-17T17:05:01.949515",
     "exception": false,
     "start_time": "2021-02-17T17:05:01.903825",
     "status": "completed"
    },
    "tags": []
   },
   "outputs": [
    {
     "data": {
      "text/html": [
       "<div>\n",
       "<style scoped>\n",
       "    .dataframe tbody tr th:only-of-type {\n",
       "        vertical-align: middle;\n",
       "    }\n",
       "\n",
       "    .dataframe tbody tr th {\n",
       "        vertical-align: top;\n",
       "    }\n",
       "\n",
       "    .dataframe thead th {\n",
       "        text-align: right;\n",
       "    }\n",
       "</style>\n",
       "<table border=\"1\" class=\"dataframe\">\n",
       "  <thead>\n",
       "    <tr style=\"text-align: right;\">\n",
       "      <th></th>\n",
       "      <th>id</th>\n",
       "      <th>cat0</th>\n",
       "      <th>cat1</th>\n",
       "      <th>cat2</th>\n",
       "      <th>cat3</th>\n",
       "      <th>cat4</th>\n",
       "      <th>cat5</th>\n",
       "      <th>cat6</th>\n",
       "      <th>cat7</th>\n",
       "      <th>cat8</th>\n",
       "      <th>...</th>\n",
       "      <th>cont5</th>\n",
       "      <th>cont6</th>\n",
       "      <th>cont7</th>\n",
       "      <th>cont8</th>\n",
       "      <th>cont9</th>\n",
       "      <th>cont10</th>\n",
       "      <th>cont11</th>\n",
       "      <th>cont12</th>\n",
       "      <th>cont13</th>\n",
       "      <th>target</th>\n",
       "    </tr>\n",
       "  </thead>\n",
       "  <tbody>\n",
       "    <tr>\n",
       "      <th>0</th>\n",
       "      <td>1</td>\n",
       "      <td>0</td>\n",
       "      <td>1</td>\n",
       "      <td>0</td>\n",
       "      <td>0</td>\n",
       "      <td>1</td>\n",
       "      <td>3</td>\n",
       "      <td>0</td>\n",
       "      <td>4</td>\n",
       "      <td>2</td>\n",
       "      <td>...</td>\n",
       "      <td>0.881122</td>\n",
       "      <td>0.421650</td>\n",
       "      <td>0.741413</td>\n",
       "      <td>0.895799</td>\n",
       "      <td>0.802461</td>\n",
       "      <td>0.724417</td>\n",
       "      <td>0.701915</td>\n",
       "      <td>0.877618</td>\n",
       "      <td>0.719903</td>\n",
       "      <td>6.994023</td>\n",
       "    </tr>\n",
       "    <tr>\n",
       "      <th>1</th>\n",
       "      <td>2</td>\n",
       "      <td>1</td>\n",
       "      <td>0</td>\n",
       "      <td>0</td>\n",
       "      <td>0</td>\n",
       "      <td>1</td>\n",
       "      <td>1</td>\n",
       "      <td>0</td>\n",
       "      <td>4</td>\n",
       "      <td>0</td>\n",
       "      <td>...</td>\n",
       "      <td>0.440011</td>\n",
       "      <td>0.346230</td>\n",
       "      <td>0.278495</td>\n",
       "      <td>0.593413</td>\n",
       "      <td>0.546056</td>\n",
       "      <td>0.613252</td>\n",
       "      <td>0.741289</td>\n",
       "      <td>0.326679</td>\n",
       "      <td>0.808464</td>\n",
       "      <td>8.071256</td>\n",
       "    </tr>\n",
       "    <tr>\n",
       "      <th>2</th>\n",
       "      <td>3</td>\n",
       "      <td>0</td>\n",
       "      <td>0</td>\n",
       "      <td>0</td>\n",
       "      <td>2</td>\n",
       "      <td>1</td>\n",
       "      <td>3</td>\n",
       "      <td>0</td>\n",
       "      <td>1</td>\n",
       "      <td>2</td>\n",
       "      <td>...</td>\n",
       "      <td>0.914155</td>\n",
       "      <td>0.369602</td>\n",
       "      <td>0.832564</td>\n",
       "      <td>0.865620</td>\n",
       "      <td>0.825251</td>\n",
       "      <td>0.264104</td>\n",
       "      <td>0.695561</td>\n",
       "      <td>0.869133</td>\n",
       "      <td>0.828352</td>\n",
       "      <td>5.760456</td>\n",
       "    </tr>\n",
       "    <tr>\n",
       "      <th>3</th>\n",
       "      <td>4</td>\n",
       "      <td>0</td>\n",
       "      <td>0</td>\n",
       "      <td>0</td>\n",
       "      <td>2</td>\n",
       "      <td>1</td>\n",
       "      <td>3</td>\n",
       "      <td>0</td>\n",
       "      <td>4</td>\n",
       "      <td>6</td>\n",
       "      <td>...</td>\n",
       "      <td>0.934138</td>\n",
       "      <td>0.578930</td>\n",
       "      <td>0.407313</td>\n",
       "      <td>0.868099</td>\n",
       "      <td>0.794402</td>\n",
       "      <td>0.494269</td>\n",
       "      <td>0.698125</td>\n",
       "      <td>0.809799</td>\n",
       "      <td>0.614766</td>\n",
       "      <td>7.806457</td>\n",
       "    </tr>\n",
       "    <tr>\n",
       "      <th>4</th>\n",
       "      <td>6</td>\n",
       "      <td>0</td>\n",
       "      <td>1</td>\n",
       "      <td>0</td>\n",
       "      <td>0</td>\n",
       "      <td>1</td>\n",
       "      <td>1</td>\n",
       "      <td>0</td>\n",
       "      <td>4</td>\n",
       "      <td>2</td>\n",
       "      <td>...</td>\n",
       "      <td>0.382600</td>\n",
       "      <td>0.705940</td>\n",
       "      <td>0.325193</td>\n",
       "      <td>0.440967</td>\n",
       "      <td>0.462146</td>\n",
       "      <td>0.724447</td>\n",
       "      <td>0.683073</td>\n",
       "      <td>0.343457</td>\n",
       "      <td>0.297743</td>\n",
       "      <td>6.868974</td>\n",
       "    </tr>\n",
       "  </tbody>\n",
       "</table>\n",
       "<p>5 rows × 26 columns</p>\n",
       "</div>"
      ],
      "text/plain": [
       "   id  cat0  cat1  cat2  cat3  cat4  cat5  cat6  cat7  cat8  ...     cont5  \\\n",
       "0   1     0     1     0     0     1     3     0     4     2  ...  0.881122   \n",
       "1   2     1     0     0     0     1     1     0     4     0  ...  0.440011   \n",
       "2   3     0     0     0     2     1     3     0     1     2  ...  0.914155   \n",
       "3   4     0     0     0     2     1     3     0     4     6  ...  0.934138   \n",
       "4   6     0     1     0     0     1     1     0     4     2  ...  0.382600   \n",
       "\n",
       "      cont6     cont7     cont8     cont9    cont10    cont11    cont12  \\\n",
       "0  0.421650  0.741413  0.895799  0.802461  0.724417  0.701915  0.877618   \n",
       "1  0.346230  0.278495  0.593413  0.546056  0.613252  0.741289  0.326679   \n",
       "2  0.369602  0.832564  0.865620  0.825251  0.264104  0.695561  0.869133   \n",
       "3  0.578930  0.407313  0.868099  0.794402  0.494269  0.698125  0.809799   \n",
       "4  0.705940  0.325193  0.440967  0.462146  0.724447  0.683073  0.343457   \n",
       "\n",
       "     cont13    target  \n",
       "0  0.719903  6.994023  \n",
       "1  0.808464  8.071256  \n",
       "2  0.828352  5.760456  \n",
       "3  0.614766  7.806457  \n",
       "4  0.297743  6.868974  \n",
       "\n",
       "[5 rows x 26 columns]"
      ]
     },
     "execution_count": 8,
     "metadata": {},
     "output_type": "execute_result"
    }
   ],
   "source": [
    "train.head()\n"
   ]
  },
  {
   "cell_type": "code",
   "execution_count": 9,
   "metadata": {
    "execution": {
     "iopub.execute_input": "2021-02-17T17:05:01.993194Z",
     "iopub.status.busy": "2021-02-17T17:05:01.985861Z",
     "iopub.status.idle": "2021-02-17T17:05:01.999481Z",
     "shell.execute_reply": "2021-02-17T17:05:01.998906Z"
    },
    "papermill": {
     "duration": 0.038855,
     "end_time": "2021-02-17T17:05:01.999639",
     "exception": false,
     "start_time": "2021-02-17T17:05:01.960784",
     "status": "completed"
    },
    "tags": []
   },
   "outputs": [
    {
     "data": {
      "text/html": [
       "<div>\n",
       "<style scoped>\n",
       "    .dataframe tbody tr th:only-of-type {\n",
       "        vertical-align: middle;\n",
       "    }\n",
       "\n",
       "    .dataframe tbody tr th {\n",
       "        vertical-align: top;\n",
       "    }\n",
       "\n",
       "    .dataframe thead th {\n",
       "        text-align: right;\n",
       "    }\n",
       "</style>\n",
       "<table border=\"1\" class=\"dataframe\">\n",
       "  <thead>\n",
       "    <tr style=\"text-align: right;\">\n",
       "      <th></th>\n",
       "      <th>id</th>\n",
       "      <th>cat0</th>\n",
       "      <th>cat1</th>\n",
       "      <th>cat2</th>\n",
       "      <th>cat3</th>\n",
       "      <th>cat4</th>\n",
       "      <th>cat5</th>\n",
       "      <th>cat6</th>\n",
       "      <th>cat7</th>\n",
       "      <th>cat8</th>\n",
       "      <th>...</th>\n",
       "      <th>cont4</th>\n",
       "      <th>cont5</th>\n",
       "      <th>cont6</th>\n",
       "      <th>cont7</th>\n",
       "      <th>cont8</th>\n",
       "      <th>cont9</th>\n",
       "      <th>cont10</th>\n",
       "      <th>cont11</th>\n",
       "      <th>cont12</th>\n",
       "      <th>cont13</th>\n",
       "    </tr>\n",
       "  </thead>\n",
       "  <tbody>\n",
       "    <tr>\n",
       "      <th>0</th>\n",
       "      <td>0</td>\n",
       "      <td>0</td>\n",
       "      <td>1</td>\n",
       "      <td>0</td>\n",
       "      <td>2</td>\n",
       "      <td>1</td>\n",
       "      <td>3</td>\n",
       "      <td>0</td>\n",
       "      <td>4</td>\n",
       "      <td>4</td>\n",
       "      <td>...</td>\n",
       "      <td>0.701679</td>\n",
       "      <td>0.595507</td>\n",
       "      <td>0.286912</td>\n",
       "      <td>0.279884</td>\n",
       "      <td>0.202234</td>\n",
       "      <td>0.242654</td>\n",
       "      <td>0.285147</td>\n",
       "      <td>0.264308</td>\n",
       "      <td>0.653654</td>\n",
       "      <td>0.302448</td>\n",
       "    </tr>\n",
       "    <tr>\n",
       "      <th>1</th>\n",
       "      <td>5</td>\n",
       "      <td>0</td>\n",
       "      <td>1</td>\n",
       "      <td>0</td>\n",
       "      <td>2</td>\n",
       "      <td>1</td>\n",
       "      <td>3</td>\n",
       "      <td>0</td>\n",
       "      <td>4</td>\n",
       "      <td>2</td>\n",
       "      <td>...</td>\n",
       "      <td>0.277480</td>\n",
       "      <td>0.479552</td>\n",
       "      <td>0.397436</td>\n",
       "      <td>0.476742</td>\n",
       "      <td>0.857073</td>\n",
       "      <td>0.516393</td>\n",
       "      <td>0.562065</td>\n",
       "      <td>0.730542</td>\n",
       "      <td>0.318492</td>\n",
       "      <td>0.736251</td>\n",
       "    </tr>\n",
       "    <tr>\n",
       "      <th>2</th>\n",
       "      <td>15</td>\n",
       "      <td>0</td>\n",
       "      <td>1</td>\n",
       "      <td>0</td>\n",
       "      <td>2</td>\n",
       "      <td>1</td>\n",
       "      <td>3</td>\n",
       "      <td>0</td>\n",
       "      <td>4</td>\n",
       "      <td>2</td>\n",
       "      <td>...</td>\n",
       "      <td>0.279508</td>\n",
       "      <td>0.676395</td>\n",
       "      <td>0.695284</td>\n",
       "      <td>0.253316</td>\n",
       "      <td>0.586934</td>\n",
       "      <td>0.548555</td>\n",
       "      <td>0.836193</td>\n",
       "      <td>0.759788</td>\n",
       "      <td>0.333572</td>\n",
       "      <td>0.273905</td>\n",
       "    </tr>\n",
       "    <tr>\n",
       "      <th>3</th>\n",
       "      <td>16</td>\n",
       "      <td>0</td>\n",
       "      <td>0</td>\n",
       "      <td>1</td>\n",
       "      <td>0</td>\n",
       "      <td>1</td>\n",
       "      <td>3</td>\n",
       "      <td>0</td>\n",
       "      <td>4</td>\n",
       "      <td>4</td>\n",
       "      <td>...</td>\n",
       "      <td>0.479503</td>\n",
       "      <td>0.759875</td>\n",
       "      <td>0.240049</td>\n",
       "      <td>0.298074</td>\n",
       "      <td>0.442475</td>\n",
       "      <td>0.596746</td>\n",
       "      <td>0.414131</td>\n",
       "      <td>0.255382</td>\n",
       "      <td>0.589080</td>\n",
       "      <td>0.311625</td>\n",
       "    </tr>\n",
       "    <tr>\n",
       "      <th>4</th>\n",
       "      <td>17</td>\n",
       "      <td>0</td>\n",
       "      <td>1</td>\n",
       "      <td>0</td>\n",
       "      <td>0</td>\n",
       "      <td>1</td>\n",
       "      <td>1</td>\n",
       "      <td>0</td>\n",
       "      <td>4</td>\n",
       "      <td>4</td>\n",
       "      <td>...</td>\n",
       "      <td>0.757845</td>\n",
       "      <td>0.210232</td>\n",
       "      <td>0.329851</td>\n",
       "      <td>0.616663</td>\n",
       "      <td>0.170475</td>\n",
       "      <td>0.263235</td>\n",
       "      <td>0.710961</td>\n",
       "      <td>0.224045</td>\n",
       "      <td>0.285860</td>\n",
       "      <td>0.794931</td>\n",
       "    </tr>\n",
       "  </tbody>\n",
       "</table>\n",
       "<p>5 rows × 25 columns</p>\n",
       "</div>"
      ],
      "text/plain": [
       "   id  cat0  cat1  cat2  cat3  cat4  cat5  cat6  cat7  cat8  ...     cont4  \\\n",
       "0   0     0     1     0     2     1     3     0     4     4  ...  0.701679   \n",
       "1   5     0     1     0     2     1     3     0     4     2  ...  0.277480   \n",
       "2  15     0     1     0     2     1     3     0     4     2  ...  0.279508   \n",
       "3  16     0     0     1     0     1     3     0     4     4  ...  0.479503   \n",
       "4  17     0     1     0     0     1     1     0     4     4  ...  0.757845   \n",
       "\n",
       "      cont5     cont6     cont7     cont8     cont9    cont10    cont11  \\\n",
       "0  0.595507  0.286912  0.279884  0.202234  0.242654  0.285147  0.264308   \n",
       "1  0.479552  0.397436  0.476742  0.857073  0.516393  0.562065  0.730542   \n",
       "2  0.676395  0.695284  0.253316  0.586934  0.548555  0.836193  0.759788   \n",
       "3  0.759875  0.240049  0.298074  0.442475  0.596746  0.414131  0.255382   \n",
       "4  0.210232  0.329851  0.616663  0.170475  0.263235  0.710961  0.224045   \n",
       "\n",
       "     cont12    cont13  \n",
       "0  0.653654  0.302448  \n",
       "1  0.318492  0.736251  \n",
       "2  0.333572  0.273905  \n",
       "3  0.589080  0.311625  \n",
       "4  0.285860  0.794931  \n",
       "\n",
       "[5 rows x 25 columns]"
      ]
     },
     "execution_count": 9,
     "metadata": {},
     "output_type": "execute_result"
    }
   ],
   "source": [
    "test.head()\n"
   ]
  },
  {
   "cell_type": "code",
   "execution_count": 10,
   "metadata": {
    "execution": {
     "iopub.execute_input": "2021-02-17T17:05:02.028997Z",
     "iopub.status.busy": "2021-02-17T17:05:02.028182Z",
     "iopub.status.idle": "2021-02-17T17:05:02.031728Z",
     "shell.execute_reply": "2021-02-17T17:05:02.032147Z"
    },
    "papermill": {
     "duration": 0.021162,
     "end_time": "2021-02-17T17:05:02.032318",
     "exception": false,
     "start_time": "2021-02-17T17:05:02.011156",
     "status": "completed"
    },
    "tags": []
   },
   "outputs": [
    {
     "data": {
      "text/plain": [
       "(300000,)"
      ]
     },
     "execution_count": 10,
     "metadata": {},
     "output_type": "execute_result"
    }
   ],
   "source": [
    "train_oof = np.zeros((300000,))\n",
    "test_preds = 0\n",
    "train_oof.shape"
   ]
  },
  {
   "cell_type": "code",
   "execution_count": 11,
   "metadata": {
    "execution": {
     "iopub.execute_input": "2021-02-17T17:05:02.061423Z",
     "iopub.status.busy": "2021-02-17T17:05:02.060437Z",
     "iopub.status.idle": "2021-02-17T17:05:02.068287Z",
     "shell.execute_reply": "2021-02-17T17:05:02.067648Z"
    },
    "papermill": {
     "duration": 0.022658,
     "end_time": "2021-02-17T17:05:02.068435",
     "exception": false,
     "start_time": "2021-02-17T17:05:02.045777",
     "status": "completed"
    },
    "tags": []
   },
   "outputs": [],
   "source": [
    "params = { 'learning_rate': 0.003899156646724397,\n",
    "          'max_depth': 99,\n",
    "          'num_leaves': 63,\n",
    "          'reg_alpha': 9.562925363678952,\n",
    "          'reg_lambda': 9.355810045480153,\n",
    "          'colsample_bytree': 0.2256038826485174,\n",
    "          'min_child_samples': 290,\n",
    "          'subsample_freq': 1,\n",
    "          'subsample': 0.8805303688019942,\n",
    "          'max_bin': 882,\n",
    "          'min_data_per_group': 127,\n",
    "          'cat_smooth': 96,\n",
    "          'cat_l2': 19,\n",
    "    \n",
    "    #\n",
    "    \n",
    "    \n",
    "    #'reg_alpha': 6.147694913504962,\n",
    "      #    'learning_rate': 0.001,\n",
    "      #  'min_child_samples':285,\n",
    "        'boosting_type': 'gbdt',\n",
    "       # 'num_leaves': 256,\n",
    "        'max_depth': -1,\n",
    "        'lambda_l1': 4.5,\n",
    "        'lambda_l2': 1.2,\n",
    "       # 'subsample':0.8,\n",
    "          'metric': 'rmse',\n",
    "        # 'cat_smooth': 39,\n",
    "         'n_estimators': 320000,\n",
    "}"
   ]
  },
  {
   "cell_type": "code",
   "execution_count": 12,
   "metadata": {
    "execution": {
     "iopub.execute_input": "2021-02-17T17:05:02.100319Z",
     "iopub.status.busy": "2021-02-17T17:05:02.099336Z",
     "iopub.status.idle": "2021-02-17T17:52:34.106310Z",
     "shell.execute_reply": "2021-02-17T17:52:34.104286Z"
    },
    "papermill": {
     "duration": 2852.026234,
     "end_time": "2021-02-17T17:52:34.106576",
     "exception": false,
     "start_time": "2021-02-17T17:05:02.080342",
     "status": "completed"
    },
    "tags": []
   },
   "outputs": [
    {
     "data": {
      "application/vnd.jupyter.widget-view+json": {
       "model_id": "4c68738462ab4865ac8ee56235ab603e",
       "version_major": 2,
       "version_minor": 0
      },
      "text/plain": [
       "|          | 0/? [00:00<?, ?it/s]"
      ]
     },
     "metadata": {},
     "output_type": "display_data"
    },
    {
     "name": "stdout",
     "output_type": "stream",
     "text": [
      "[LightGBM] [Warning] lambda_l1 is set=4.5, reg_alpha=9.562925363678952 will be ignored. Current value: lambda_l1=4.5\n",
      "[LightGBM] [Warning] lambda_l2 is set=1.2, reg_lambda=9.355810045480153 will be ignored. Current value: lambda_l2=1.2\n",
      "0.8426794499399133\n",
      "[LightGBM] [Warning] lambda_l1 is set=4.5, reg_alpha=9.562925363678952 will be ignored. Current value: lambda_l1=4.5\n",
      "[LightGBM] [Warning] lambda_l2 is set=1.2, reg_lambda=9.355810045480153 will be ignored. Current value: lambda_l2=1.2\n",
      "0.8408838069671288\n",
      "[LightGBM] [Warning] lambda_l1 is set=4.5, reg_alpha=9.562925363678952 will be ignored. Current value: lambda_l1=4.5\n",
      "[LightGBM] [Warning] lambda_l2 is set=1.2, reg_lambda=9.355810045480153 will be ignored. Current value: lambda_l2=1.2\n",
      "0.8465511676349979\n",
      "[LightGBM] [Warning] lambda_l1 is set=4.5, reg_alpha=9.562925363678952 will be ignored. Current value: lambda_l1=4.5\n",
      "[LightGBM] [Warning] lambda_l2 is set=1.2, reg_lambda=9.355810045480153 will be ignored. Current value: lambda_l2=1.2\n",
      "0.8404023311292896\n",
      "[LightGBM] [Warning] lambda_l1 is set=4.5, reg_alpha=9.562925363678952 will be ignored. Current value: lambda_l1=4.5\n",
      "[LightGBM] [Warning] lambda_l2 is set=1.2, reg_lambda=9.355810045480153 will be ignored. Current value: lambda_l2=1.2\n",
      "0.8438730814685143\n",
      "[LightGBM] [Warning] lambda_l1 is set=4.5, reg_alpha=9.562925363678952 will be ignored. Current value: lambda_l1=4.5\n",
      "[LightGBM] [Warning] lambda_l2 is set=1.2, reg_lambda=9.355810045480153 will be ignored. Current value: lambda_l2=1.2\n",
      "0.8384411003569173\n",
      "[LightGBM] [Warning] lambda_l1 is set=4.5, reg_alpha=9.562925363678952 will be ignored. Current value: lambda_l1=4.5\n",
      "[LightGBM] [Warning] lambda_l2 is set=1.2, reg_lambda=9.355810045480153 will be ignored. Current value: lambda_l2=1.2\n",
      "0.8368746190171367\n",
      "[LightGBM] [Warning] lambda_l1 is set=4.5, reg_alpha=9.562925363678952 will be ignored. Current value: lambda_l1=4.5\n",
      "[LightGBM] [Warning] lambda_l2 is set=1.2, reg_lambda=9.355810045480153 will be ignored. Current value: lambda_l2=1.2\n",
      "0.8397901392116079\n",
      "[LightGBM] [Warning] lambda_l1 is set=4.5, reg_alpha=9.562925363678952 will be ignored. Current value: lambda_l1=4.5\n",
      "[LightGBM] [Warning] lambda_l2 is set=1.2, reg_lambda=9.355810045480153 will be ignored. Current value: lambda_l2=1.2\n",
      "0.842807612233668\n",
      "[LightGBM] [Warning] lambda_l1 is set=4.5, reg_alpha=9.562925363678952 will be ignored. Current value: lambda_l1=4.5\n",
      "[LightGBM] [Warning] lambda_l2 is set=1.2, reg_lambda=9.355810045480153 will be ignored. Current value: lambda_l2=1.2\n",
      "0.8461398491810953\n"
     ]
    }
   ],
   "source": [
    "NUM_FOLDS = 10\n",
    "kf = KFold(n_splits=NUM_FOLDS, shuffle=True, random_state=2021)\n",
    "\n",
    "for f, (train_ind, val_ind) in tqdm(enumerate(kf.split(train, target))):\n",
    "        #print(f'Fold {f}')\n",
    "        train_df, val_df = train.iloc[train_ind][columns], train.iloc[val_ind][columns]\n",
    "        train_target, val_target = target[train_ind], target[val_ind]\n",
    "        \n",
    "        model = LGBMRegressor(**params)\n",
    "        model.fit(train_df, train_target, eval_set=[(val_df,val_target)],early_stopping_rounds=2000,verbose=False)\n",
    "        temp_oof = model.predict(val_df)\n",
    "        temp_test = model.predict(test[columns])\n",
    "\n",
    "        train_oof[val_ind] = temp_oof\n",
    "        test_preds += temp_test/NUM_FOLDS\n",
    "        \n",
    "        print(mean_squared_error(temp_oof, val_target, squared=False))"
   ]
  },
  {
   "cell_type": "code",
   "execution_count": 13,
   "metadata": {
    "execution": {
     "iopub.execute_input": "2021-02-17T17:52:34.141585Z",
     "iopub.status.busy": "2021-02-17T17:52:34.140980Z",
     "iopub.status.idle": "2021-02-17T17:52:34.149006Z",
     "shell.execute_reply": "2021-02-17T17:52:34.148537Z"
    },
    "papermill": {
     "duration": 0.027977,
     "end_time": "2021-02-17T17:52:34.149137",
     "exception": false,
     "start_time": "2021-02-17T17:52:34.121160",
     "status": "completed"
    },
    "tags": []
   },
   "outputs": [
    {
     "data": {
      "text/plain": [
       "0.8418496521137563"
      ]
     },
     "execution_count": 13,
     "metadata": {},
     "output_type": "execute_result"
    }
   ],
   "source": [
    "mean_squared_error(train_oof, target, squared=False)\n"
   ]
  },
  {
   "cell_type": "code",
   "execution_count": 14,
   "metadata": {
    "execution": {
     "iopub.execute_input": "2021-02-17T17:52:34.185383Z",
     "iopub.status.busy": "2021-02-17T17:52:34.184785Z",
     "iopub.status.idle": "2021-02-17T17:52:34.194345Z",
     "shell.execute_reply": "2021-02-17T17:52:34.193860Z"
    },
    "papermill": {
     "duration": 0.030262,
     "end_time": "2021-02-17T17:52:34.194486",
     "exception": false,
     "start_time": "2021-02-17T17:52:34.164224",
     "status": "completed"
    },
    "tags": []
   },
   "outputs": [],
   "source": [
    "np.save('train_oof', train_oof)\n",
    "np.save('test_preds', test_preds)"
   ]
  },
  {
   "cell_type": "code",
   "execution_count": 15,
   "metadata": {
    "execution": {
     "iopub.execute_input": "2021-02-17T17:52:34.240887Z",
     "iopub.status.busy": "2021-02-17T17:52:34.240281Z",
     "iopub.status.idle": "2021-02-17T17:52:34.701968Z",
     "shell.execute_reply": "2021-02-17T17:52:34.701441Z"
    },
    "papermill": {
     "duration": 0.485574,
     "end_time": "2021-02-17T17:52:34.702115",
     "exception": false,
     "start_time": "2021-02-17T17:52:34.216541",
     "status": "completed"
    },
    "tags": []
   },
   "outputs": [],
   "source": [
    "sub['target'] = test_preds\n",
    "sub.to_csv('submission.csv', index=False)"
   ]
  }
 ],
 "metadata": {
  "kernelspec": {
   "display_name": "Python 3",
   "language": "python",
   "name": "python3"
  },
  "language_info": {
   "codemirror_mode": {
    "name": "ipython",
    "version": 3
   },
   "file_extension": ".py",
   "mimetype": "text/x-python",
   "name": "python",
   "nbconvert_exporter": "python",
   "pygments_lexer": "ipython3",
   "version": "3.7.9"
  },
  "papermill": {
   "default_parameters": {},
   "duration": 2867.436152,
   "end_time": "2021-02-17T17:52:35.527437",
   "environment_variables": {},
   "exception": null,
   "input_path": "__notebook__.ipynb",
   "output_path": "__notebook__.ipynb",
   "parameters": {},
   "start_time": "2021-02-17T17:04:48.091285",
   "version": "2.2.2"
  },
  "widgets": {
   "application/vnd.jupyter.widget-state+json": {
    "state": {
     "20efb2ac86a44687b21222b62e50d6ad": {
      "model_module": "@jupyter-widgets/controls",
      "model_module_version": "1.5.0",
      "model_name": "HTMLModel",
      "state": {
       "_dom_classes": [],
       "_model_module": "@jupyter-widgets/controls",
       "_model_module_version": "1.5.0",
       "_model_name": "HTMLModel",
       "_view_count": null,
       "_view_module": "@jupyter-widgets/controls",
       "_view_module_version": "1.5.0",
       "_view_name": "HTMLView",
       "description": "",
       "description_tooltip": null,
       "layout": "IPY_MODEL_a92aec6ee059408e8d034f954a88921f",
       "placeholder": "​",
       "style": "IPY_MODEL_ba1fcd574a474c59a77e906b2cadc045",
       "value": ""
      }
     },
     "37fa001654b54e08aa4f33ed0e49751f": {
      "model_module": "@jupyter-widgets/base",
      "model_module_version": "1.2.0",
      "model_name": "LayoutModel",
      "state": {
       "_model_module": "@jupyter-widgets/base",
       "_model_module_version": "1.2.0",
       "_model_name": "LayoutModel",
       "_view_count": null,
       "_view_module": "@jupyter-widgets/base",
       "_view_module_version": "1.2.0",
       "_view_name": "LayoutView",
       "align_content": null,
       "align_items": null,
       "align_self": null,
       "border": null,
       "bottom": null,
       "display": null,
       "flex": null,
       "flex_flow": null,
       "grid_area": null,
       "grid_auto_columns": null,
       "grid_auto_flow": null,
       "grid_auto_rows": null,
       "grid_column": null,
       "grid_gap": null,
       "grid_row": null,
       "grid_template_areas": null,
       "grid_template_columns": null,
       "grid_template_rows": null,
       "height": null,
       "justify_content": null,
       "justify_items": null,
       "left": null,
       "margin": null,
       "max_height": null,
       "max_width": null,
       "min_height": null,
       "min_width": null,
       "object_fit": null,
       "object_position": null,
       "order": null,
       "overflow": null,
       "overflow_x": null,
       "overflow_y": null,
       "padding": null,
       "right": null,
       "top": null,
       "visibility": null,
       "width": null
      }
     },
     "39bcf23d1d964e9ebec6f85e83187e51": {
      "model_module": "@jupyter-widgets/controls",
      "model_module_version": "1.5.0",
      "model_name": "HTMLModel",
      "state": {
       "_dom_classes": [],
       "_model_module": "@jupyter-widgets/controls",
       "_model_module_version": "1.5.0",
       "_model_name": "HTMLModel",
       "_view_count": null,
       "_view_module": "@jupyter-widgets/controls",
       "_view_module_version": "1.5.0",
       "_view_name": "HTMLView",
       "description": "",
       "description_tooltip": null,
       "layout": "IPY_MODEL_37fa001654b54e08aa4f33ed0e49751f",
       "placeholder": "​",
       "style": "IPY_MODEL_6dc05abd66da4bb682204c7ff7d1063e",
       "value": "10it [47:31, 276.81s/it]"
      }
     },
     "4b681adcece345879d2133894b5f2450": {
      "model_module": "@jupyter-widgets/base",
      "model_module_version": "1.2.0",
      "model_name": "LayoutModel",
      "state": {
       "_model_module": "@jupyter-widgets/base",
       "_model_module_version": "1.2.0",
       "_model_name": "LayoutModel",
       "_view_count": null,
       "_view_module": "@jupyter-widgets/base",
       "_view_module_version": "1.2.0",
       "_view_name": "LayoutView",
       "align_content": null,
       "align_items": null,
       "align_self": null,
       "border": null,
       "bottom": null,
       "display": null,
       "flex": null,
       "flex_flow": null,
       "grid_area": null,
       "grid_auto_columns": null,
       "grid_auto_flow": null,
       "grid_auto_rows": null,
       "grid_column": null,
       "grid_gap": null,
       "grid_row": null,
       "grid_template_areas": null,
       "grid_template_columns": null,
       "grid_template_rows": null,
       "height": null,
       "justify_content": null,
       "justify_items": null,
       "left": null,
       "margin": null,
       "max_height": null,
       "max_width": null,
       "min_height": null,
       "min_width": null,
       "object_fit": null,
       "object_position": null,
       "order": null,
       "overflow": null,
       "overflow_x": null,
       "overflow_y": null,
       "padding": null,
       "right": null,
       "top": null,
       "visibility": null,
       "width": "20px"
      }
     },
     "4c68738462ab4865ac8ee56235ab603e": {
      "model_module": "@jupyter-widgets/controls",
      "model_module_version": "1.5.0",
      "model_name": "HBoxModel",
      "state": {
       "_dom_classes": [],
       "_model_module": "@jupyter-widgets/controls",
       "_model_module_version": "1.5.0",
       "_model_name": "HBoxModel",
       "_view_count": null,
       "_view_module": "@jupyter-widgets/controls",
       "_view_module_version": "1.5.0",
       "_view_name": "HBoxView",
       "box_style": "",
       "children": [
        "IPY_MODEL_20efb2ac86a44687b21222b62e50d6ad",
        "IPY_MODEL_f8335b17b30f4f788ee4c36f1b773319",
        "IPY_MODEL_39bcf23d1d964e9ebec6f85e83187e51"
       ],
       "layout": "IPY_MODEL_dc84e5ab2b924a5ab46e443d8ddf59c7"
      }
     },
     "5b70db54b1f44070a474dbf4e86134f3": {
      "model_module": "@jupyter-widgets/controls",
      "model_module_version": "1.5.0",
      "model_name": "ProgressStyleModel",
      "state": {
       "_model_module": "@jupyter-widgets/controls",
       "_model_module_version": "1.5.0",
       "_model_name": "ProgressStyleModel",
       "_view_count": null,
       "_view_module": "@jupyter-widgets/base",
       "_view_module_version": "1.2.0",
       "_view_name": "StyleView",
       "bar_color": null,
       "description_width": ""
      }
     },
     "6dc05abd66da4bb682204c7ff7d1063e": {
      "model_module": "@jupyter-widgets/controls",
      "model_module_version": "1.5.0",
      "model_name": "DescriptionStyleModel",
      "state": {
       "_model_module": "@jupyter-widgets/controls",
       "_model_module_version": "1.5.0",
       "_model_name": "DescriptionStyleModel",
       "_view_count": null,
       "_view_module": "@jupyter-widgets/base",
       "_view_module_version": "1.2.0",
       "_view_name": "StyleView",
       "description_width": ""
      }
     },
     "a92aec6ee059408e8d034f954a88921f": {
      "model_module": "@jupyter-widgets/base",
      "model_module_version": "1.2.0",
      "model_name": "LayoutModel",
      "state": {
       "_model_module": "@jupyter-widgets/base",
       "_model_module_version": "1.2.0",
       "_model_name": "LayoutModel",
       "_view_count": null,
       "_view_module": "@jupyter-widgets/base",
       "_view_module_version": "1.2.0",
       "_view_name": "LayoutView",
       "align_content": null,
       "align_items": null,
       "align_self": null,
       "border": null,
       "bottom": null,
       "display": null,
       "flex": null,
       "flex_flow": null,
       "grid_area": null,
       "grid_auto_columns": null,
       "grid_auto_flow": null,
       "grid_auto_rows": null,
       "grid_column": null,
       "grid_gap": null,
       "grid_row": null,
       "grid_template_areas": null,
       "grid_template_columns": null,
       "grid_template_rows": null,
       "height": null,
       "justify_content": null,
       "justify_items": null,
       "left": null,
       "margin": null,
       "max_height": null,
       "max_width": null,
       "min_height": null,
       "min_width": null,
       "object_fit": null,
       "object_position": null,
       "order": null,
       "overflow": null,
       "overflow_x": null,
       "overflow_y": null,
       "padding": null,
       "right": null,
       "top": null,
       "visibility": null,
       "width": null
      }
     },
     "ba1fcd574a474c59a77e906b2cadc045": {
      "model_module": "@jupyter-widgets/controls",
      "model_module_version": "1.5.0",
      "model_name": "DescriptionStyleModel",
      "state": {
       "_model_module": "@jupyter-widgets/controls",
       "_model_module_version": "1.5.0",
       "_model_name": "DescriptionStyleModel",
       "_view_count": null,
       "_view_module": "@jupyter-widgets/base",
       "_view_module_version": "1.2.0",
       "_view_name": "StyleView",
       "description_width": ""
      }
     },
     "dc84e5ab2b924a5ab46e443d8ddf59c7": {
      "model_module": "@jupyter-widgets/base",
      "model_module_version": "1.2.0",
      "model_name": "LayoutModel",
      "state": {
       "_model_module": "@jupyter-widgets/base",
       "_model_module_version": "1.2.0",
       "_model_name": "LayoutModel",
       "_view_count": null,
       "_view_module": "@jupyter-widgets/base",
       "_view_module_version": "1.2.0",
       "_view_name": "LayoutView",
       "align_content": null,
       "align_items": null,
       "align_self": null,
       "border": null,
       "bottom": null,
       "display": null,
       "flex": null,
       "flex_flow": null,
       "grid_area": null,
       "grid_auto_columns": null,
       "grid_auto_flow": null,
       "grid_auto_rows": null,
       "grid_column": null,
       "grid_gap": null,
       "grid_row": null,
       "grid_template_areas": null,
       "grid_template_columns": null,
       "grid_template_rows": null,
       "height": null,
       "justify_content": null,
       "justify_items": null,
       "left": null,
       "margin": null,
       "max_height": null,
       "max_width": null,
       "min_height": null,
       "min_width": null,
       "object_fit": null,
       "object_position": null,
       "order": null,
       "overflow": null,
       "overflow_x": null,
       "overflow_y": null,
       "padding": null,
       "right": null,
       "top": null,
       "visibility": null,
       "width": null
      }
     },
     "f8335b17b30f4f788ee4c36f1b773319": {
      "model_module": "@jupyter-widgets/controls",
      "model_module_version": "1.5.0",
      "model_name": "FloatProgressModel",
      "state": {
       "_dom_classes": [],
       "_model_module": "@jupyter-widgets/controls",
       "_model_module_version": "1.5.0",
       "_model_name": "FloatProgressModel",
       "_view_count": null,
       "_view_module": "@jupyter-widgets/controls",
       "_view_module_version": "1.5.0",
       "_view_name": "ProgressView",
       "bar_style": "success",
       "description": "",
       "description_tooltip": null,
       "layout": "IPY_MODEL_4b681adcece345879d2133894b5f2450",
       "max": 1.0,
       "min": 0.0,
       "orientation": "horizontal",
       "style": "IPY_MODEL_5b70db54b1f44070a474dbf4e86134f3",
       "value": 1.0
      }
     }
    },
    "version_major": 2,
    "version_minor": 0
   }
  }
 },
 "nbformat": 4,
 "nbformat_minor": 4
}
