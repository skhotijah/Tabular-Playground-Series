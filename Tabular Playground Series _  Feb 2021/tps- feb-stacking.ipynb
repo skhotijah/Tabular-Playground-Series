{
 "cells": [
  {
   "cell_type": "code",
   "execution_count": 1,
   "metadata": {
    "execution": {
     "iopub.execute_input": "2021-02-22T08:25:04.988679Z",
     "iopub.status.busy": "2021-02-22T08:25:04.987846Z",
     "iopub.status.idle": "2021-02-22T08:25:06.028640Z",
     "shell.execute_reply": "2021-02-22T08:25:06.027718Z"
    },
    "papermill": {
     "duration": 1.056585,
     "end_time": "2021-02-22T08:25:06.028890",
     "exception": false,
     "start_time": "2021-02-22T08:25:04.972305",
     "status": "completed"
    },
    "tags": []
   },
   "outputs": [],
   "source": [
    "import numpy as np # linear algebra\n",
    "import pandas as pd # data processing, CSV file I/O (e.g. pd.read_csv)\n",
    "from sklearn.metrics import mean_squared_error, mean_absolute_error"
   ]
  },
  {
   "cell_type": "code",
   "execution_count": 2,
   "metadata": {
    "execution": {
     "iopub.execute_input": "2021-02-22T08:25:06.051201Z",
     "iopub.status.busy": "2021-02-22T08:25:06.050431Z",
     "iopub.status.idle": "2021-02-22T08:25:10.663912Z",
     "shell.execute_reply": "2021-02-22T08:25:10.664502Z"
    },
    "papermill": {
     "duration": 4.62806,
     "end_time": "2021-02-22T08:25:10.664723",
     "exception": false,
     "start_time": "2021-02-22T08:25:06.036663",
     "status": "completed"
    },
    "tags": []
   },
   "outputs": [],
   "source": [
    "train = pd.read_csv('../input/tabular-playground-series-feb-2021/train.csv')\n",
    "test = pd.read_csv('../input/tabular-playground-series-feb-2021/test.csv')\n",
    "sub = pd.read_csv('../input/tabular-playground-series-feb-2021/sample_submission.csv')"
   ]
  },
  {
   "cell_type": "code",
   "execution_count": 3,
   "metadata": {
    "execution": {
     "iopub.execute_input": "2021-02-22T08:25:10.683927Z",
     "iopub.status.busy": "2021-02-22T08:25:10.683347Z",
     "iopub.status.idle": "2021-02-22T08:25:10.697206Z",
     "shell.execute_reply": "2021-02-22T08:25:10.696513Z"
    },
    "papermill": {
     "duration": 0.024801,
     "end_time": "2021-02-22T08:25:10.697360",
     "exception": false,
     "start_time": "2021-02-22T08:25:10.672559",
     "status": "completed"
    },
    "tags": []
   },
   "outputs": [],
   "source": [
    "target = train['target'].values"
   ]
  },
  {
   "cell_type": "code",
   "execution_count": 4,
   "metadata": {
    "execution": {
     "iopub.execute_input": "2021-02-22T08:25:10.717937Z",
     "iopub.status.busy": "2021-02-22T08:25:10.717288Z",
     "iopub.status.idle": "2021-02-22T08:25:11.012048Z",
     "shell.execute_reply": "2021-02-22T08:25:11.012572Z"
    },
    "papermill": {
     "duration": 0.307772,
     "end_time": "2021-02-22T08:25:11.012791",
     "exception": false,
     "start_time": "2021-02-22T08:25:10.705019",
     "status": "completed"
    },
    "tags": []
   },
   "outputs": [],
   "source": [
    "train_oof_lgb = np.load('../input/tpsfeb2021-3/Tps - Feb 2021 _5/train_oof.npy')\n",
    "test_preds_lgb = np.load('../input/tpsfeb2021-3/Tps - Feb 2021 _5/test_preds.npy')\n",
    "\n",
    "train_oof_xgb = np.load('../input/tps-feb-2021-5/train_oof.npy')\n",
    "test_preds_xgb = np.load('../input/tps-feb-2021-5/test_preds.npy')\n",
    "\n",
    "lgbm_highs = pd.read_csv('../input/tps-sub/submission_0.84188.csv')"
   ]
  },
  {
   "cell_type": "code",
   "execution_count": 5,
   "metadata": {
    "execution": {
     "iopub.execute_input": "2021-02-22T08:25:11.034547Z",
     "iopub.status.busy": "2021-02-22T08:25:11.033717Z",
     "iopub.status.idle": "2021-02-22T08:25:11.045350Z",
     "shell.execute_reply": "2021-02-22T08:25:11.044325Z"
    },
    "papermill": {
     "duration": 0.024912,
     "end_time": "2021-02-22T08:25:11.045542",
     "exception": false,
     "start_time": "2021-02-22T08:25:11.020630",
     "status": "completed"
    },
    "tags": []
   },
   "outputs": [
    {
     "name": "stdout",
     "output_type": "stream",
     "text": [
      "0.8417308850451749\n",
      "0.8417203635410653\n"
     ]
    }
   ],
   "source": [
    "print(mean_squared_error(train_oof_lgb, target, squared=False))\n",
    "print(mean_squared_error(train_oof_xgb, target, squared=False))\n"
   ]
  },
  {
   "cell_type": "code",
   "execution_count": 6,
   "metadata": {
    "execution": {
     "iopub.execute_input": "2021-02-22T08:25:11.067479Z",
     "iopub.status.busy": "2021-02-22T08:25:11.066668Z",
     "iopub.status.idle": "2021-02-22T08:25:11.074786Z",
     "shell.execute_reply": "2021-02-22T08:25:11.075921Z"
    },
    "papermill": {
     "duration": 0.022144,
     "end_time": "2021-02-22T08:25:11.076128",
     "exception": false,
     "start_time": "2021-02-22T08:25:11.053984",
     "status": "completed"
    },
    "tags": []
   },
   "outputs": [
    {
     "name": "stdout",
     "output_type": "stream",
     "text": [
      "0.8416307020829662\n"
     ]
    }
   ],
   "source": [
    "print(mean_squared_error(0.75*train_oof_lgb+0.25*train_oof_xgb, target, squared=False))\n"
   ]
  },
  {
   "cell_type": "code",
   "execution_count": 7,
   "metadata": {
    "execution": {
     "iopub.execute_input": "2021-02-22T08:25:11.097492Z",
     "iopub.status.busy": "2021-02-22T08:25:11.096816Z",
     "iopub.status.idle": "2021-02-22T08:25:11.582122Z",
     "shell.execute_reply": "2021-02-22T08:25:11.582651Z"
    },
    "papermill": {
     "duration": 0.498631,
     "end_time": "2021-02-22T08:25:11.582851",
     "exception": false,
     "start_time": "2021-02-22T08:25:11.084220",
     "status": "completed"
    },
    "tags": []
   },
   "outputs": [
    {
     "data": {
      "text/html": [
       "<div>\n",
       "<style scoped>\n",
       "    .dataframe tbody tr th:only-of-type {\n",
       "        vertical-align: middle;\n",
       "    }\n",
       "\n",
       "    .dataframe tbody tr th {\n",
       "        vertical-align: top;\n",
       "    }\n",
       "\n",
       "    .dataframe thead th {\n",
       "        text-align: right;\n",
       "    }\n",
       "</style>\n",
       "<table border=\"1\" class=\"dataframe\">\n",
       "  <thead>\n",
       "    <tr style=\"text-align: right;\">\n",
       "      <th></th>\n",
       "      <th>id</th>\n",
       "      <th>target</th>\n",
       "    </tr>\n",
       "  </thead>\n",
       "  <tbody>\n",
       "    <tr>\n",
       "      <th>0</th>\n",
       "      <td>0</td>\n",
       "      <td>7.605909</td>\n",
       "    </tr>\n",
       "    <tr>\n",
       "      <th>1</th>\n",
       "      <td>5</td>\n",
       "      <td>7.759812</td>\n",
       "    </tr>\n",
       "    <tr>\n",
       "      <th>2</th>\n",
       "      <td>15</td>\n",
       "      <td>7.615514</td>\n",
       "    </tr>\n",
       "    <tr>\n",
       "      <th>3</th>\n",
       "      <td>16</td>\n",
       "      <td>7.522413</td>\n",
       "    </tr>\n",
       "    <tr>\n",
       "      <th>4</th>\n",
       "      <td>17</td>\n",
       "      <td>7.268046</td>\n",
       "    </tr>\n",
       "  </tbody>\n",
       "</table>\n",
       "</div>"
      ],
      "text/plain": [
       "   id    target\n",
       "0   0  7.605909\n",
       "1   5  7.759812\n",
       "2  15  7.615514\n",
       "3  16  7.522413\n",
       "4  17  7.268046"
      ]
     },
     "execution_count": 7,
     "metadata": {},
     "output_type": "execute_result"
    }
   ],
   "source": [
    "sub['target'] = 0.75*test_preds_lgb+0.25*test_preds_xgb\n",
    "sub.to_csv('submission.csv', index=False)\n",
    "sub.head()"
   ]
  },
  {
   "cell_type": "code",
   "execution_count": 8,
   "metadata": {
    "execution": {
     "iopub.execute_input": "2021-02-22T08:25:11.605710Z",
     "iopub.status.busy": "2021-02-22T08:25:11.604955Z",
     "iopub.status.idle": "2021-02-22T08:25:12.068960Z",
     "shell.execute_reply": "2021-02-22T08:25:12.069455Z"
    },
    "papermill": {
     "duration": 0.478172,
     "end_time": "2021-02-22T08:25:12.069659",
     "exception": false,
     "start_time": "2021-02-22T08:25:11.591487",
     "status": "completed"
    },
    "tags": []
   },
   "outputs": [
    {
     "data": {
      "text/html": [
       "<div>\n",
       "<style scoped>\n",
       "    .dataframe tbody tr th:only-of-type {\n",
       "        vertical-align: middle;\n",
       "    }\n",
       "\n",
       "    .dataframe tbody tr th {\n",
       "        vertical-align: top;\n",
       "    }\n",
       "\n",
       "    .dataframe thead th {\n",
       "        text-align: right;\n",
       "    }\n",
       "</style>\n",
       "<table border=\"1\" class=\"dataframe\">\n",
       "  <thead>\n",
       "    <tr style=\"text-align: right;\">\n",
       "      <th></th>\n",
       "      <th>id</th>\n",
       "      <th>target</th>\n",
       "    </tr>\n",
       "  </thead>\n",
       "  <tbody>\n",
       "    <tr>\n",
       "      <th>0</th>\n",
       "      <td>0</td>\n",
       "      <td>7.605502</td>\n",
       "    </tr>\n",
       "    <tr>\n",
       "      <th>1</th>\n",
       "      <td>5</td>\n",
       "      <td>7.760964</td>\n",
       "    </tr>\n",
       "    <tr>\n",
       "      <th>2</th>\n",
       "      <td>15</td>\n",
       "      <td>7.614486</td>\n",
       "    </tr>\n",
       "    <tr>\n",
       "      <th>3</th>\n",
       "      <td>16</td>\n",
       "      <td>7.522610</td>\n",
       "    </tr>\n",
       "    <tr>\n",
       "      <th>4</th>\n",
       "      <td>17</td>\n",
       "      <td>7.266994</td>\n",
       "    </tr>\n",
       "  </tbody>\n",
       "</table>\n",
       "</div>"
      ],
      "text/plain": [
       "   id    target\n",
       "0   0  7.605502\n",
       "1   5  7.760964\n",
       "2  15  7.614486\n",
       "3  16  7.522610\n",
       "4  17  7.266994"
      ]
     },
     "execution_count": 8,
     "metadata": {},
     "output_type": "execute_result"
    }
   ],
   "source": [
    "sub['target'] = 0.675*test_preds_lgb+0.225*test_preds_xgb+0.1*lgbm_highs['target'].values\n",
    "sub.to_csv('submission_2.csv', index=False)\n",
    "sub.head()"
   ]
  },
  {
   "cell_type": "code",
   "execution_count": 9,
   "metadata": {
    "execution": {
     "iopub.execute_input": "2021-02-22T08:25:12.093966Z",
     "iopub.status.busy": "2021-02-22T08:25:12.093283Z",
     "iopub.status.idle": "2021-02-22T08:25:12.553526Z",
     "shell.execute_reply": "2021-02-22T08:25:12.552970Z"
    },
    "papermill": {
     "duration": 0.474795,
     "end_time": "2021-02-22T08:25:12.553686",
     "exception": false,
     "start_time": "2021-02-22T08:25:12.078891",
     "status": "completed"
    },
    "tags": []
   },
   "outputs": [
    {
     "data": {
      "text/html": [
       "<div>\n",
       "<style scoped>\n",
       "    .dataframe tbody tr th:only-of-type {\n",
       "        vertical-align: middle;\n",
       "    }\n",
       "\n",
       "    .dataframe tbody tr th {\n",
       "        vertical-align: top;\n",
       "    }\n",
       "\n",
       "    .dataframe thead th {\n",
       "        text-align: right;\n",
       "    }\n",
       "</style>\n",
       "<table border=\"1\" class=\"dataframe\">\n",
       "  <thead>\n",
       "    <tr style=\"text-align: right;\">\n",
       "      <th></th>\n",
       "      <th>id</th>\n",
       "      <th>target</th>\n",
       "    </tr>\n",
       "  </thead>\n",
       "  <tbody>\n",
       "    <tr>\n",
       "      <th>0</th>\n",
       "      <td>0</td>\n",
       "      <td>7.605094</td>\n",
       "    </tr>\n",
       "    <tr>\n",
       "      <th>1</th>\n",
       "      <td>5</td>\n",
       "      <td>7.762116</td>\n",
       "    </tr>\n",
       "    <tr>\n",
       "      <th>2</th>\n",
       "      <td>15</td>\n",
       "      <td>7.613458</td>\n",
       "    </tr>\n",
       "    <tr>\n",
       "      <th>3</th>\n",
       "      <td>16</td>\n",
       "      <td>7.522807</td>\n",
       "    </tr>\n",
       "    <tr>\n",
       "      <th>4</th>\n",
       "      <td>17</td>\n",
       "      <td>7.265942</td>\n",
       "    </tr>\n",
       "  </tbody>\n",
       "</table>\n",
       "</div>"
      ],
      "text/plain": [
       "   id    target\n",
       "0   0  7.605094\n",
       "1   5  7.762116\n",
       "2  15  7.613458\n",
       "3  16  7.522807\n",
       "4  17  7.265942"
      ]
     },
     "execution_count": 9,
     "metadata": {},
     "output_type": "execute_result"
    }
   ],
   "source": [
    "sub['target'] = 0.6*test_preds_lgb+0.2*test_preds_xgb+0.2*lgbm_highs['target'].values\n",
    "sub.to_csv('submission_3.csv', index=False)\n",
    "sub.head()"
   ]
  },
  {
   "cell_type": "code",
   "execution_count": 10,
   "metadata": {
    "execution": {
     "iopub.execute_input": "2021-02-22T08:25:12.577063Z",
     "iopub.status.busy": "2021-02-22T08:25:12.576438Z",
     "iopub.status.idle": "2021-02-22T08:25:13.033660Z",
     "shell.execute_reply": "2021-02-22T08:25:13.034154Z"
    },
    "papermill": {
     "duration": 0.471685,
     "end_time": "2021-02-22T08:25:13.034369",
     "exception": false,
     "start_time": "2021-02-22T08:25:12.562684",
     "status": "completed"
    },
    "tags": []
   },
   "outputs": [
    {
     "data": {
      "text/html": [
       "<div>\n",
       "<style scoped>\n",
       "    .dataframe tbody tr th:only-of-type {\n",
       "        vertical-align: middle;\n",
       "    }\n",
       "\n",
       "    .dataframe tbody tr th {\n",
       "        vertical-align: top;\n",
       "    }\n",
       "\n",
       "    .dataframe thead th {\n",
       "        text-align: right;\n",
       "    }\n",
       "</style>\n",
       "<table border=\"1\" class=\"dataframe\">\n",
       "  <thead>\n",
       "    <tr style=\"text-align: right;\">\n",
       "      <th></th>\n",
       "      <th>id</th>\n",
       "      <th>target</th>\n",
       "    </tr>\n",
       "  </thead>\n",
       "  <tbody>\n",
       "    <tr>\n",
       "      <th>0</th>\n",
       "      <td>0</td>\n",
       "      <td>7.603637</td>\n",
       "    </tr>\n",
       "    <tr>\n",
       "      <th>1</th>\n",
       "      <td>5</td>\n",
       "      <td>7.764925</td>\n",
       "    </tr>\n",
       "    <tr>\n",
       "      <th>2</th>\n",
       "      <td>15</td>\n",
       "      <td>7.610166</td>\n",
       "    </tr>\n",
       "    <tr>\n",
       "      <th>3</th>\n",
       "      <td>16</td>\n",
       "      <td>7.523033</td>\n",
       "    </tr>\n",
       "    <tr>\n",
       "      <th>4</th>\n",
       "      <td>17</td>\n",
       "      <td>7.260919</td>\n",
       "    </tr>\n",
       "  </tbody>\n",
       "</table>\n",
       "</div>"
      ],
      "text/plain": [
       "   id    target\n",
       "0   0  7.603637\n",
       "1   5  7.764925\n",
       "2  15  7.610166\n",
       "3  16  7.523033\n",
       "4  17  7.260919"
      ]
     },
     "execution_count": 10,
     "metadata": {},
     "output_type": "execute_result"
    }
   ],
   "source": [
    "sub['target'] = 0.05*test_preds_lgb+0.25*test_preds_xgb+0.7*lgbm_highs['target'].values\n",
    "sub.to_csv('submission_4.csv', index=False)\n",
    "sub.head()"
   ]
  },
  {
   "cell_type": "code",
   "execution_count": 11,
   "metadata": {
    "execution": {
     "iopub.execute_input": "2021-02-22T08:25:13.057387Z",
     "iopub.status.busy": "2021-02-22T08:25:13.056690Z",
     "iopub.status.idle": "2021-02-22T08:25:13.514317Z",
     "shell.execute_reply": "2021-02-22T08:25:13.514765Z"
    },
    "papermill": {
     "duration": 0.471068,
     "end_time": "2021-02-22T08:25:13.514971",
     "exception": false,
     "start_time": "2021-02-22T08:25:13.043903",
     "status": "completed"
    },
    "tags": []
   },
   "outputs": [
    {
     "data": {
      "text/html": [
       "<div>\n",
       "<style scoped>\n",
       "    .dataframe tbody tr th:only-of-type {\n",
       "        vertical-align: middle;\n",
       "    }\n",
       "\n",
       "    .dataframe tbody tr th {\n",
       "        vertical-align: top;\n",
       "    }\n",
       "\n",
       "    .dataframe thead th {\n",
       "        text-align: right;\n",
       "    }\n",
       "</style>\n",
       "<table border=\"1\" class=\"dataframe\">\n",
       "  <thead>\n",
       "    <tr style=\"text-align: right;\">\n",
       "      <th></th>\n",
       "      <th>id</th>\n",
       "      <th>target</th>\n",
       "    </tr>\n",
       "  </thead>\n",
       "  <tbody>\n",
       "    <tr>\n",
       "      <th>0</th>\n",
       "      <td>0</td>\n",
       "      <td>7.601833</td>\n",
       "    </tr>\n",
       "    <tr>\n",
       "      <th>1</th>\n",
       "      <td>5</td>\n",
       "      <td>7.771332</td>\n",
       "    </tr>\n",
       "    <tr>\n",
       "      <th>2</th>\n",
       "      <td>15</td>\n",
       "      <td>7.605235</td>\n",
       "    </tr>\n",
       "    <tr>\n",
       "      <th>3</th>\n",
       "      <td>16</td>\n",
       "      <td>7.524382</td>\n",
       "    </tr>\n",
       "    <tr>\n",
       "      <th>4</th>\n",
       "      <td>17</td>\n",
       "      <td>7.257526</td>\n",
       "    </tr>\n",
       "  </tbody>\n",
       "</table>\n",
       "</div>"
      ],
      "text/plain": [
       "   id    target\n",
       "0   0  7.601833\n",
       "1   5  7.771332\n",
       "2  15  7.605235\n",
       "3  16  7.524382\n",
       "4  17  7.257526"
      ]
     },
     "execution_count": 11,
     "metadata": {},
     "output_type": "execute_result"
    }
   ],
   "source": [
    "sub['target'] = lgbm_highs['target'].values\n",
    "sub.to_csv('submission_5.csv', index=False)\n",
    "sub.head()"
   ]
  },
  {
   "cell_type": "code",
   "execution_count": 12,
   "metadata": {
    "execution": {
     "iopub.execute_input": "2021-02-22T08:25:13.538911Z",
     "iopub.status.busy": "2021-02-22T08:25:13.538240Z",
     "iopub.status.idle": "2021-02-22T08:25:13.996876Z",
     "shell.execute_reply": "2021-02-22T08:25:13.996235Z"
    },
    "papermill": {
     "duration": 0.471828,
     "end_time": "2021-02-22T08:25:13.997044",
     "exception": false,
     "start_time": "2021-02-22T08:25:13.525216",
     "status": "completed"
    },
    "tags": []
   },
   "outputs": [
    {
     "data": {
      "text/html": [
       "<div>\n",
       "<style scoped>\n",
       "    .dataframe tbody tr th:only-of-type {\n",
       "        vertical-align: middle;\n",
       "    }\n",
       "\n",
       "    .dataframe tbody tr th {\n",
       "        vertical-align: top;\n",
       "    }\n",
       "\n",
       "    .dataframe thead th {\n",
       "        text-align: right;\n",
       "    }\n",
       "</style>\n",
       "<table border=\"1\" class=\"dataframe\">\n",
       "  <thead>\n",
       "    <tr style=\"text-align: right;\">\n",
       "      <th></th>\n",
       "      <th>id</th>\n",
       "      <th>target</th>\n",
       "    </tr>\n",
       "  </thead>\n",
       "  <tbody>\n",
       "    <tr>\n",
       "      <th>0</th>\n",
       "      <td>0</td>\n",
       "      <td>7.602806</td>\n",
       "    </tr>\n",
       "    <tr>\n",
       "      <th>1</th>\n",
       "      <td>5</td>\n",
       "      <td>7.769141</td>\n",
       "    </tr>\n",
       "    <tr>\n",
       "      <th>2</th>\n",
       "      <td>15</td>\n",
       "      <td>7.607527</td>\n",
       "    </tr>\n",
       "    <tr>\n",
       "      <th>3</th>\n",
       "      <td>16</td>\n",
       "      <td>7.524116</td>\n",
       "    </tr>\n",
       "    <tr>\n",
       "      <th>4</th>\n",
       "      <td>17</td>\n",
       "      <td>7.260580</td>\n",
       "    </tr>\n",
       "  </tbody>\n",
       "</table>\n",
       "</div>"
      ],
      "text/plain": [
       "   id    target\n",
       "0   0  7.602806\n",
       "1   5  7.769141\n",
       "2  15  7.607527\n",
       "3  16  7.524116\n",
       "4  17  7.260580"
      ]
     },
     "execution_count": 12,
     "metadata": {},
     "output_type": "execute_result"
    }
   ],
   "source": [
    "sub['target'] = 0.3*test_preds_lgb+0.7*lgbm_highs['target'].values\n",
    "sub.to_csv('submission_6.csv', index=False)\n",
    "sub.head()"
   ]
  }
 ],
 "metadata": {
  "kernelspec": {
   "display_name": "Python 3",
   "language": "python",
   "name": "python3"
  },
  "language_info": {
   "codemirror_mode": {
    "name": "ipython",
    "version": 3
   },
   "file_extension": ".py",
   "mimetype": "text/x-python",
   "name": "python",
   "nbconvert_exporter": "python",
   "pygments_lexer": "ipython3",
   "version": "3.7.9"
  },
  "papermill": {
   "default_parameters": {},
   "duration": 15.330128,
   "end_time": "2021-02-22T08:25:14.820845",
   "environment_variables": {},
   "exception": null,
   "input_path": "__notebook__.ipynb",
   "output_path": "__notebook__.ipynb",
   "parameters": {},
   "start_time": "2021-02-22T08:24:59.490717",
   "version": "2.2.2"
  }
 },
 "nbformat": 4,
 "nbformat_minor": 4
}
