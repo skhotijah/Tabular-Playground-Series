{
 "cells": [
  {
   "cell_type": "code",
   "execution_count": 1,
   "metadata": {
    "_cell_guid": "b1076dfc-b9ad-4769-8c92-a6c4dae69d19",
    "_uuid": "8f2839f25d086af736a60e9eeb907d3b93b6e0e5",
    "execution": {
     "iopub.execute_input": "2021-03-23T21:34:07.611239Z",
     "iopub.status.busy": "2021-03-23T21:34:07.610472Z",
     "iopub.status.idle": "2021-03-23T21:34:15.671512Z",
     "shell.execute_reply": "2021-03-23T21:34:15.670348Z"
    },
    "papermill": {
     "duration": 8.084821,
     "end_time": "2021-03-23T21:34:15.671783",
     "exception": false,
     "start_time": "2021-03-23T21:34:07.586962",
     "status": "completed"
    },
    "tags": []
   },
   "outputs": [],
   "source": [
    "from tensorflow.keras import layers, optimizers, callbacks, utils, losses, metrics, backend as K\n",
    "from sklearn import metrics as skmetrics, preprocessing\n",
    "from tensorflow.keras.models import Model, load_model\n",
    "from sklearn.model_selection import StratifiedKFold\n",
    "from scipy.stats import rankdata\n",
    "import os, gc, joblib, warnings\n",
    "import tensorflow_addons as tfa\n",
    "import tensorflow as tf\n",
    "import pandas as pd\n",
    "import numpy as np\n",
    "\n",
    "warnings.filterwarnings('ignore')"
   ]
  },
  {
   "cell_type": "code",
   "execution_count": 2,
   "metadata": {
    "execution": {
     "iopub.execute_input": "2021-03-23T21:34:15.714389Z",
     "iopub.status.busy": "2021-03-23T21:34:15.713556Z",
     "iopub.status.idle": "2021-03-23T21:34:15.717279Z",
     "shell.execute_reply": "2021-03-23T21:34:15.716690Z"
    },
    "papermill": {
     "duration": 0.030492,
     "end_time": "2021-03-23T21:34:15.717441",
     "exception": false,
     "start_time": "2021-03-23T21:34:15.686949",
     "status": "completed"
    },
    "tags": []
   },
   "outputs": [],
   "source": [
    "def create_model(data, catcols):    \n",
    "    inputs = []\n",
    "    outputs = []\n",
    "    for c in catcols:\n",
    "        num_unique_values = int(data[c].nunique())\n",
    "        embed_dim = int(min(np.ceil((num_unique_values)/2), 20))\n",
    "        inp = layers.Input(shape=(1,))\n",
    "        out = layers.Embedding(num_unique_values + 1, embed_dim, name=c)(inp)\n",
    "        out = layers.SpatialDropout1D(0.25)(out)\n",
    "        out = layers.Reshape(target_shape=(embed_dim, ))(out)\n",
    "        inputs.append(inp)\n",
    "        outputs.append(out)\n",
    "    \n",
    "    x = layers.Concatenate()(outputs)\n",
    "    x = layers.BatchNormalization()(x)\n",
    "    \n",
    "    x = layers.Dense(300, activation='relu')(x)\n",
    "    x = layers.Dropout(0.3)(x)\n",
    "    x = layers.BatchNormalization()(x)\n",
    "    \n",
    "    x = layers.Dense(300, activation='relu')(x)\n",
    "    x = layers.Dropout(0.3)(x)\n",
    "    x = layers.BatchNormalization()(x)\n",
    "    \n",
    "    y = layers.Dense(1, activation='sigmoid')(x)\n",
    "\n",
    "    model = Model(inputs=inputs, outputs=y)\n",
    "    return model"
   ]
  },
  {
   "cell_type": "code",
   "execution_count": 3,
   "metadata": {
    "execution": {
     "iopub.execute_input": "2021-03-23T21:34:15.753711Z",
     "iopub.status.busy": "2021-03-23T21:34:15.752951Z",
     "iopub.status.idle": "2021-03-23T21:34:20.308045Z",
     "shell.execute_reply": "2021-03-23T21:34:20.307214Z"
    },
    "papermill": {
     "duration": 4.575524,
     "end_time": "2021-03-23T21:34:20.308215",
     "exception": false,
     "start_time": "2021-03-23T21:34:15.732691",
     "status": "completed"
    },
    "tags": []
   },
   "outputs": [],
   "source": [
    "train = pd.read_csv('../input/tabular-playground-series-mar-2021/train.csv')\n",
    "test = pd.read_csv('../input/tabular-playground-series-mar-2021/test.csv')\n"
   ]
  },
  {
   "cell_type": "code",
   "execution_count": 4,
   "metadata": {
    "execution": {
     "iopub.execute_input": "2021-03-23T21:34:20.359671Z",
     "iopub.status.busy": "2021-03-23T21:34:20.352626Z",
     "iopub.status.idle": "2021-03-23T21:34:20.467920Z",
     "shell.execute_reply": "2021-03-23T21:34:20.467327Z"
    },
    "papermill": {
     "duration": 0.14445,
     "end_time": "2021-03-23T21:34:20.468095",
     "exception": false,
     "start_time": "2021-03-23T21:34:20.323645",
     "status": "completed"
    },
    "tags": []
   },
   "outputs": [],
   "source": [
    "test_id = test.id.values\n",
    "train = train.drop(['id'], axis=1)\n",
    "test = test.drop(['id'], axis=1)"
   ]
  },
  {
   "cell_type": "code",
   "execution_count": 5,
   "metadata": {
    "execution": {
     "iopub.execute_input": "2021-03-23T21:34:20.502866Z",
     "iopub.status.busy": "2021-03-23T21:34:20.501781Z",
     "iopub.status.idle": "2021-03-23T21:34:24.764749Z",
     "shell.execute_reply": "2021-03-23T21:34:24.763103Z"
    },
    "papermill": {
     "duration": 4.282204,
     "end_time": "2021-03-23T21:34:24.765199",
     "exception": false,
     "start_time": "2021-03-23T21:34:20.482995",
     "status": "completed"
    },
    "tags": []
   },
   "outputs": [],
   "source": [
    "sparse_features = [f for f in train.columns if 'cat' in f]\n",
    "dense_features = [feat for feat in train.columns if  feat not in sparse_features+['target']]\n",
    "\n",
    "for col in sparse_features:\n",
    "    train_only = list(set(train[col].unique()) - set(test[col].unique()))\n",
    "    test_only = list(set(test[col].unique()) - set(train[col].unique()))\n",
    "    both = list(set(test[col].unique()).union(set(train[col].unique())))\n",
    "    train.loc[train[col].isin(train_only), col] = np.nan\n",
    "    test.loc[test[col].isin(test_only), col] = np.nan\n",
    "    mode = train[col].mode().values[0]\n",
    "    train[col] = train[col].fillna(mode)\n",
    "    test[col] = test[col].fillna(mode)\n",
    "    "
   ]
  },
  {
   "cell_type": "code",
   "execution_count": 6,
   "metadata": {
    "execution": {
     "iopub.execute_input": "2021-03-23T21:34:24.801239Z",
     "iopub.status.busy": "2021-03-23T21:34:24.800497Z",
     "iopub.status.idle": "2021-03-23T21:34:24.865170Z",
     "shell.execute_reply": "2021-03-23T21:34:24.865984Z"
    },
    "papermill": {
     "duration": 0.08542,
     "end_time": "2021-03-23T21:34:24.866186",
     "exception": false,
     "start_time": "2021-03-23T21:34:24.780766",
     "status": "completed"
    },
    "tags": []
   },
   "outputs": [],
   "source": [
    "for feat in dense_features:\n",
    "    test[feat] = np.clip(test[feat], train[feat].min(), train[feat].max())"
   ]
  },
  {
   "cell_type": "code",
   "execution_count": 7,
   "metadata": {
    "execution": {
     "iopub.execute_input": "2021-03-23T21:34:24.903609Z",
     "iopub.status.busy": "2021-03-23T21:34:24.902461Z",
     "iopub.status.idle": "2021-03-23T21:34:26.244477Z",
     "shell.execute_reply": "2021-03-23T21:34:26.243689Z"
    },
    "papermill": {
     "duration": 1.364891,
     "end_time": "2021-03-23T21:34:26.244662",
     "exception": false,
     "start_time": "2021-03-23T21:34:24.879771",
     "status": "completed"
    },
    "tags": []
   },
   "outputs": [],
   "source": [
    "test[\"target\"] = -1\n",
    "data = pd.concat([train, test]).reset_index(drop=True)\n",
    "\n",
    "for c in dense_features:\n",
    "    data[f'q_{c}'], bins_ = pd.qcut(data[c], 25, retbins=True, labels=[i for i in range(25)])\n",
    "    data[f'q_{c}'] = data[f'q_{c}'].astype('str')\n",
    "    sparse_features.append(f'q_{c}')"
   ]
  },
  {
   "cell_type": "code",
   "execution_count": 8,
   "metadata": {
    "execution": {
     "iopub.execute_input": "2021-03-23T21:34:26.338865Z",
     "iopub.status.busy": "2021-03-23T21:34:26.338133Z",
     "iopub.status.idle": "2021-03-23T21:35:23.536898Z",
     "shell.execute_reply": "2021-03-23T21:35:23.536207Z"
    },
    "papermill": {
     "duration": 57.275997,
     "end_time": "2021-03-23T21:35:23.537088",
     "exception": false,
     "start_time": "2021-03-23T21:34:26.261091",
     "status": "completed"
    },
    "tags": []
   },
   "outputs": [],
   "source": [
    "features = sparse_features\n",
    "for feat in features:\n",
    "    lbl_enc = preprocessing.OrdinalEncoder()\n",
    "    data[feat] = lbl_enc.fit_transform(data[feat].fillna('-1').values.reshape(-1,1).astype(str))\n",
    "    \n",
    "train = data[data.target != -1].reset_index(drop=True)\n",
    "test = data[data.target == -1].reset_index(drop=True)\n",
    "test_data = [test.loc[:, features].values[:, k] for k in range(test.loc[:, features].values.shape[1])]"
   ]
  },
  {
   "cell_type": "code",
   "execution_count": 9,
   "metadata": {
    "execution": {
     "iopub.execute_input": "2021-03-23T21:35:23.573216Z",
     "iopub.status.busy": "2021-03-23T21:35:23.572441Z",
     "iopub.status.idle": "2021-03-23T21:35:23.577628Z",
     "shell.execute_reply": "2021-03-23T21:35:23.578161Z"
    },
    "papermill": {
     "duration": 0.027465,
     "end_time": "2021-03-23T21:35:23.578381",
     "exception": false,
     "start_time": "2021-03-23T21:35:23.550916",
     "status": "completed"
    },
    "tags": []
   },
   "outputs": [],
   "source": [
    "oof_preds = np.zeros((len(train)))\n",
    "bagged_oof_preds = np.zeros((len(train)))\n",
    "test_preds = np.zeros((len(test)))\n",
    "bagged_test_preds = np.zeros((len(test)))\n",
    "learning_rate = 1e-3\n",
    "label_smoothing = 0.0\n",
    "Verbose = 0\n",
    "n_splits = [10, 15]\n",
    "n_bags = 2\n",
    "seeds = [2021, 2021]"
   ]
  },
  {
   "cell_type": "code",
   "execution_count": 10,
   "metadata": {
    "execution": {
     "iopub.execute_input": "2021-03-23T21:35:23.609607Z",
     "iopub.status.busy": "2021-03-23T21:35:23.608879Z",
     "iopub.status.idle": "2021-03-23T23:33:52.107969Z",
     "shell.execute_reply": "2021-03-23T23:33:52.108575Z"
    },
    "papermill": {
     "duration": 7108.516696,
     "end_time": "2021-03-23T23:33:52.108876",
     "exception": false,
     "start_time": "2021-03-23T21:35:23.592180",
     "status": "completed"
    },
    "tags": []
   },
   "outputs": [
    {
     "name": "stdout",
     "output_type": "stream",
     "text": [
      "Iteration 1 splits 10 seed 2021\n",
      "fold 1 AUC : 0.8963407918659074\n",
      "fold 2 AUC : 0.8947308782910746\n",
      "fold 3 AUC : 0.892532826377632\n",
      "fold 4 AUC : 0.8911952262290276\n",
      "fold 5 AUC : 0.8935665194812421\n",
      "fold 6 AUC : 0.8947203470848193\n",
      "fold 7 AUC : 0.8959554484381071\n",
      "fold 8 AUC : 0.8945549007217966\n",
      "fold 9 AUC : 0.8917274244891114\n",
      "fold 10 AUC : 0.8933755149084286\n",
      "Overall AUC of Iteration 1 = 0.8938699838056556\n",
      "Iteration 2 splits 15 seed 2021\n",
      "fold 1 AUC : 0.895676609440068\n",
      "fold 2 AUC : 0.8965566290071578\n",
      "fold 3 AUC : 0.8942731748426278\n",
      "fold 4 AUC : 0.8911695546395435\n",
      "fold 5 AUC : 0.8956053219166467\n",
      "fold 6 AUC : 0.8903794919148688\n",
      "fold 7 AUC : 0.8930856186910237\n",
      "fold 8 AUC : 0.8947709612892698\n",
      "fold 9 AUC : 0.8966262601742172\n",
      "fold 10 AUC : 0.8953878818345529\n",
      "fold 11 AUC : 0.8987638988108487\n",
      "fold 12 AUC : 0.8924355584423174\n",
      "fold 13 AUC : 0.8936255517247417\n",
      "fold 14 AUC : 0.8906065840868588\n",
      "fold 15 AUC : 0.8930093716881689\n",
      "Overall AUC of Iteration 2 = 0.8941314892986865\n"
     ]
    }
   ],
   "source": [
    "for bag in range(n_bags):\n",
    "    print(f'Iteration {bag+1} splits {n_splits[bag]} seed {seeds[bag]}')\n",
    "    for fold, (train_index, test_index) in enumerate(StratifiedKFold(n_splits=n_splits[bag], shuffle=True, random_state=seeds[bag]).split(train, train.target.values)):\n",
    "        X_train, X_test = train.iloc[train_index, :], train.iloc[test_index, :]\n",
    "        X_train = X_train.reset_index(drop=True)\n",
    "        X_test = X_test.reset_index(drop=True)\n",
    "        y_train, y_test = X_train.target.values, X_test.target.values\n",
    "        model = create_model(data, features)\n",
    "        model.compile(\n",
    "            optimizer=tfa.optimizers.SWA(tf.keras.optimizers.Adam(learning_rate=learning_rate)),\n",
    "            loss=losses.BinaryCrossentropy(label_smoothing=label_smoothing),\n",
    "            metrics=metrics.AUC(name=\"AUC\"),\n",
    "        )\n",
    "\n",
    "        X_train = [X_train.loc[:, features].values[:, k] for k in range(X_train.loc[:, features].values.shape[1])]\n",
    "        X_test = [X_test.loc[:, features].values[:, k] for k in range(X_test.loc[:, features].values.shape[1])]\n",
    "    \n",
    "        es = callbacks.EarlyStopping(monitor='val_AUC', min_delta=0.000001, patience=10, verbose=Verbose, mode='max', baseline=None, restore_best_weights=True)\n",
    "        sb = callbacks.ModelCheckpoint('./nn_model.w8', save_weights_only=True, save_best_only=True, verbose=Verbose, monitor='val_AUC',mode='max')\n",
    "        plateau  = callbacks.ReduceLROnPlateau(monitor='val_AUC', factor=0.5, patience=2, verbose=Verbose,\n",
    "                                        mode='max', min_delta=0.0001, cooldown=0, min_lr=1e-7)\n",
    "        model.fit(X_train,\n",
    "                  y_train,\n",
    "                  validation_data=(X_test, y_test),\n",
    "                  verbose=Verbose,\n",
    "                  batch_size=2048,\n",
    "                  callbacks=[es, sb, plateau],\n",
    "                  epochs=120\n",
    "             )\n",
    "        valid_fold_preds = model.predict(X_test)\n",
    "        test_fold_preds = model.predict(test_data)\n",
    "        oof_preds[test_index] = rankdata(valid_fold_preds.ravel())/len(X_test)\n",
    "        test_preds += rankdata(test_fold_preds.ravel() / n_splits[bag])/len(test)\n",
    "        print(f'fold {fold+1} AUC : {skmetrics.roc_auc_score(y_test, valid_fold_preds)}')\n",
    "        K.clear_session()\n",
    "    print(f'Overall AUC of Iteration {bag+1} = {skmetrics.roc_auc_score(train.target.values, oof_preds)}')\n",
    "    np.save(f'oof_preds_{bag}',oof_preds)\n",
    "    np.save(f'test_preds_{bag}',test_preds)\n",
    "    bagged_test_preds += test_preds / n_bags\n",
    "    bagged_oof_preds += oof_preds / n_bags"
   ]
  },
  {
   "cell_type": "code",
   "execution_count": 11,
   "metadata": {
    "execution": {
     "iopub.execute_input": "2021-03-23T23:33:52.159866Z",
     "iopub.status.busy": "2021-03-23T23:33:52.158792Z",
     "iopub.status.idle": "2021-03-23T23:33:52.270196Z",
     "shell.execute_reply": "2021-03-23T23:33:52.270756Z"
    },
    "papermill": {
     "duration": 0.139831,
     "end_time": "2021-03-23T23:33:52.270940",
     "exception": false,
     "start_time": "2021-03-23T23:33:52.131109",
     "status": "completed"
    },
    "tags": []
   },
   "outputs": [
    {
     "name": "stdout",
     "output_type": "stream",
     "text": [
      "Overall AUC=0.8948705678546909\n"
     ]
    }
   ],
   "source": [
    "print(\"Overall AUC={}\".format(skmetrics.roc_auc_score(train.target.values, bagged_oof_preds)))"
   ]
  },
  {
   "cell_type": "code",
   "execution_count": 12,
   "metadata": {
    "execution": {
     "iopub.execute_input": "2021-03-23T23:33:52.322286Z",
     "iopub.status.busy": "2021-03-23T23:33:52.321600Z",
     "iopub.status.idle": "2021-03-23T23:33:53.020348Z",
     "shell.execute_reply": "2021-03-23T23:33:53.020898Z"
    },
    "papermill": {
     "duration": 0.728293,
     "end_time": "2021-03-23T23:33:53.021103",
     "exception": false,
     "start_time": "2021-03-23T23:33:52.292810",
     "status": "completed"
    },
    "tags": []
   },
   "outputs": [
    {
     "name": "stdout",
     "output_type": "stream",
     "text": [
      "Saving submission file\n"
     ]
    },
    {
     "data": {
      "text/html": [
       "<div>\n",
       "<style scoped>\n",
       "    .dataframe tbody tr th:only-of-type {\n",
       "        vertical-align: middle;\n",
       "    }\n",
       "\n",
       "    .dataframe tbody tr th {\n",
       "        vertical-align: top;\n",
       "    }\n",
       "\n",
       "    .dataframe thead th {\n",
       "        text-align: right;\n",
       "    }\n",
       "</style>\n",
       "<table border=\"1\" class=\"dataframe\">\n",
       "  <thead>\n",
       "    <tr style=\"text-align: right;\">\n",
       "      <th></th>\n",
       "      <th>id</th>\n",
       "      <th>target</th>\n",
       "    </tr>\n",
       "  </thead>\n",
       "  <tbody>\n",
       "    <tr>\n",
       "      <th>0</th>\n",
       "      <td>5</td>\n",
       "      <td>8.735075</td>\n",
       "    </tr>\n",
       "    <tr>\n",
       "      <th>1</th>\n",
       "      <td>6</td>\n",
       "      <td>13.917735</td>\n",
       "    </tr>\n",
       "    <tr>\n",
       "      <th>2</th>\n",
       "      <td>8</td>\n",
       "      <td>1.140623</td>\n",
       "    </tr>\n",
       "  </tbody>\n",
       "</table>\n",
       "</div>"
      ],
      "text/plain": [
       "   id     target\n",
       "0   5   8.735075\n",
       "1   6  13.917735\n",
       "2   8   1.140623"
      ]
     },
     "execution_count": 12,
     "metadata": {},
     "output_type": "execute_result"
    }
   ],
   "source": [
    "print('Saving submission file')\n",
    "submission = pd.DataFrame.from_dict({\n",
    "    'id': test_id,\n",
    "    'target': bagged_test_preds,\n",
    "})\n",
    "submission.to_csv('submission.csv', index=False)\n",
    "submission.head(3)"
   ]
  },
  {
   "cell_type": "code",
   "execution_count": 13,
   "metadata": {
    "execution": {
     "iopub.execute_input": "2021-03-23T23:33:53.075027Z",
     "iopub.status.busy": "2021-03-23T23:33:53.074096Z",
     "iopub.status.idle": "2021-03-23T23:33:53.974907Z",
     "shell.execute_reply": "2021-03-23T23:33:53.974387Z"
    },
    "papermill": {
     "duration": 0.930156,
     "end_time": "2021-03-23T23:33:53.975076",
     "exception": false,
     "start_time": "2021-03-23T23:33:53.044920",
     "status": "completed"
    },
    "tags": []
   },
   "outputs": [
    {
     "data": {
      "text/html": [
       "<div>\n",
       "<style scoped>\n",
       "    .dataframe tbody tr th:only-of-type {\n",
       "        vertical-align: middle;\n",
       "    }\n",
       "\n",
       "    .dataframe tbody tr th {\n",
       "        vertical-align: top;\n",
       "    }\n",
       "\n",
       "    .dataframe thead th {\n",
       "        text-align: right;\n",
       "    }\n",
       "</style>\n",
       "<table border=\"1\" class=\"dataframe\">\n",
       "  <thead>\n",
       "    <tr style=\"text-align: right;\">\n",
       "      <th></th>\n",
       "      <th>id</th>\n",
       "      <th>target</th>\n",
       "    </tr>\n",
       "  </thead>\n",
       "  <tbody>\n",
       "    <tr>\n",
       "      <th>0</th>\n",
       "      <td>5</td>\n",
       "      <td>0.499220</td>\n",
       "    </tr>\n",
       "    <tr>\n",
       "      <th>1</th>\n",
       "      <td>6</td>\n",
       "      <td>0.778768</td>\n",
       "    </tr>\n",
       "    <tr>\n",
       "      <th>2</th>\n",
       "      <td>8</td>\n",
       "      <td>0.063087</td>\n",
       "    </tr>\n",
       "  </tbody>\n",
       "</table>\n",
       "</div>"
      ],
      "text/plain": [
       "   id    target\n",
       "0   5  0.499220\n",
       "1   6  0.778768\n",
       "2   8  0.063087"
      ]
     },
     "execution_count": 13,
     "metadata": {},
     "output_type": "execute_result"
    }
   ],
   "source": [
    "best_sub = pd.read_csv('../input/tps-mar-2021/submission_lp.csv')\n",
    "submission['target'] = (rankdata(submission.target) * 0.275 + rankdata(best_sub.target) * 0.725)/len(submission)\n",
    "submission.to_csv('submission 1.csv', index=False)\n",
    "submission.head(3)"
   ]
  },
  {
   "cell_type": "code",
   "execution_count": 14,
   "metadata": {
    "execution": {
     "iopub.execute_input": "2021-03-23T23:33:54.030369Z",
     "iopub.status.busy": "2021-03-23T23:33:54.029228Z",
     "iopub.status.idle": "2021-03-23T23:33:54.815867Z",
     "shell.execute_reply": "2021-03-23T23:33:54.815342Z"
    },
    "papermill": {
     "duration": 0.816616,
     "end_time": "2021-03-23T23:33:54.816046",
     "exception": false,
     "start_time": "2021-03-23T23:33:53.999430",
     "status": "completed"
    },
    "tags": []
   },
   "outputs": [
    {
     "data": {
      "text/html": [
       "<div>\n",
       "<style scoped>\n",
       "    .dataframe tbody tr th:only-of-type {\n",
       "        vertical-align: middle;\n",
       "    }\n",
       "\n",
       "    .dataframe tbody tr th {\n",
       "        vertical-align: top;\n",
       "    }\n",
       "\n",
       "    .dataframe thead th {\n",
       "        text-align: right;\n",
       "    }\n",
       "</style>\n",
       "<table border=\"1\" class=\"dataframe\">\n",
       "  <thead>\n",
       "    <tr style=\"text-align: right;\">\n",
       "      <th></th>\n",
       "      <th>id</th>\n",
       "      <th>target</th>\n",
       "    </tr>\n",
       "  </thead>\n",
       "  <tbody>\n",
       "    <tr>\n",
       "      <th>0</th>\n",
       "      <td>5</td>\n",
       "      <td>0.498475</td>\n",
       "    </tr>\n",
       "    <tr>\n",
       "      <th>1</th>\n",
       "      <td>6</td>\n",
       "      <td>0.773401</td>\n",
       "    </tr>\n",
       "    <tr>\n",
       "      <th>2</th>\n",
       "      <td>8</td>\n",
       "      <td>0.062887</td>\n",
       "    </tr>\n",
       "  </tbody>\n",
       "</table>\n",
       "</div>"
      ],
      "text/plain": [
       "   id    target\n",
       "0   5  0.498475\n",
       "1   6  0.773401\n",
       "2   8  0.062887"
      ]
     },
     "execution_count": 14,
     "metadata": {},
     "output_type": "execute_result"
    }
   ],
   "source": [
    "best_sub1 = pd.read_csv('../input/tps-mar-2021/submission_lp.csv')\n",
    "submission['target'] = (rankdata(submission.target) * 0.2 + rankdata(best_sub1.target) * 0.8)/len(submission)\n",
    "submission.to_csv('submission 2.csv', index=False)\n",
    "submission.head(3)"
   ]
  },
  {
   "cell_type": "code",
   "execution_count": 15,
   "metadata": {
    "execution": {
     "iopub.execute_input": "2021-03-23T23:33:54.882623Z",
     "iopub.status.busy": "2021-03-23T23:33:54.881562Z",
     "iopub.status.idle": "2021-03-23T23:33:55.690707Z",
     "shell.execute_reply": "2021-03-23T23:33:55.689998Z"
    },
    "papermill": {
     "duration": 0.851393,
     "end_time": "2021-03-23T23:33:55.690853",
     "exception": false,
     "start_time": "2021-03-23T23:33:54.839460",
     "status": "completed"
    },
    "tags": []
   },
   "outputs": [
    {
     "data": {
      "text/html": [
       "<div>\n",
       "<style scoped>\n",
       "    .dataframe tbody tr th:only-of-type {\n",
       "        vertical-align: middle;\n",
       "    }\n",
       "\n",
       "    .dataframe tbody tr th {\n",
       "        vertical-align: top;\n",
       "    }\n",
       "\n",
       "    .dataframe thead th {\n",
       "        text-align: right;\n",
       "    }\n",
       "</style>\n",
       "<table border=\"1\" class=\"dataframe\">\n",
       "  <thead>\n",
       "    <tr style=\"text-align: right;\">\n",
       "      <th></th>\n",
       "      <th>id</th>\n",
       "      <th>target</th>\n",
       "    </tr>\n",
       "  </thead>\n",
       "  <tbody>\n",
       "    <tr>\n",
       "      <th>0</th>\n",
       "      <td>5</td>\n",
       "      <td>0.497966</td>\n",
       "    </tr>\n",
       "    <tr>\n",
       "      <th>1</th>\n",
       "      <td>6</td>\n",
       "      <td>0.772076</td>\n",
       "    </tr>\n",
       "    <tr>\n",
       "      <th>2</th>\n",
       "      <td>8</td>\n",
       "      <td>0.063636</td>\n",
       "    </tr>\n",
       "  </tbody>\n",
       "</table>\n",
       "</div>"
      ],
      "text/plain": [
       "   id    target\n",
       "0   5  0.497966\n",
       "1   6  0.772076\n",
       "2   8  0.063636"
      ]
     },
     "execution_count": 15,
     "metadata": {},
     "output_type": "execute_result"
    }
   ],
   "source": [
    "best_sub21 = pd.read_csv('../input/tps-mar-2021/submission_lp.csv')\n",
    "submission['target'] = (rankdata(submission.target) * 0.1 + rankdata(best_sub21.target) * 0.9)/len(submission)\n",
    "submission.to_csv('submission 31.csv', index=False)\n",
    "submission.head(3)"
   ]
  },
  {
   "cell_type": "code",
   "execution_count": 16,
   "metadata": {
    "execution": {
     "iopub.execute_input": "2021-03-23T23:33:55.745814Z",
     "iopub.status.busy": "2021-03-23T23:33:55.745178Z",
     "iopub.status.idle": "2021-03-23T23:33:56.596508Z",
     "shell.execute_reply": "2021-03-23T23:33:56.595935Z"
    },
    "papermill": {
     "duration": 0.881554,
     "end_time": "2021-03-23T23:33:56.596665",
     "exception": false,
     "start_time": "2021-03-23T23:33:55.715111",
     "status": "completed"
    },
    "tags": []
   },
   "outputs": [
    {
     "data": {
      "text/html": [
       "<div>\n",
       "<style scoped>\n",
       "    .dataframe tbody tr th:only-of-type {\n",
       "        vertical-align: middle;\n",
       "    }\n",
       "\n",
       "    .dataframe tbody tr th {\n",
       "        vertical-align: top;\n",
       "    }\n",
       "\n",
       "    .dataframe thead th {\n",
       "        text-align: right;\n",
       "    }\n",
       "</style>\n",
       "<table border=\"1\" class=\"dataframe\">\n",
       "  <thead>\n",
       "    <tr style=\"text-align: right;\">\n",
       "      <th></th>\n",
       "      <th>id</th>\n",
       "      <th>target</th>\n",
       "    </tr>\n",
       "  </thead>\n",
       "  <tbody>\n",
       "    <tr>\n",
       "      <th>0</th>\n",
       "      <td>5</td>\n",
       "      <td>0.497561</td>\n",
       "    </tr>\n",
       "    <tr>\n",
       "      <th>1</th>\n",
       "      <td>6</td>\n",
       "      <td>0.769082</td>\n",
       "    </tr>\n",
       "    <tr>\n",
       "      <th>2</th>\n",
       "      <td>8</td>\n",
       "      <td>0.063829</td>\n",
       "    </tr>\n",
       "  </tbody>\n",
       "</table>\n",
       "</div>"
      ],
      "text/plain": [
       "   id    target\n",
       "0   5  0.497561\n",
       "1   6  0.769082\n",
       "2   8  0.063829"
      ]
     },
     "execution_count": 16,
     "metadata": {},
     "output_type": "execute_result"
    }
   ],
   "source": [
    "best_sub2 = pd.read_csv('../input/tps-mar-2021/submission_pc.csv')\n",
    "submission['target'] = (rankdata(submission.target) * 0.1 + rankdata(best_sub2.target) * 0.9)/len(submission)\n",
    "submission.to_csv('submission 3.csv', index=False)\n",
    "submission.head(3)"
   ]
  },
  {
   "cell_type": "code",
   "execution_count": 17,
   "metadata": {
    "execution": {
     "iopub.execute_input": "2021-03-23T23:33:56.654310Z",
     "iopub.status.busy": "2021-03-23T23:33:56.653046Z",
     "iopub.status.idle": "2021-03-23T23:33:57.446530Z",
     "shell.execute_reply": "2021-03-23T23:33:57.447189Z"
    },
    "papermill": {
     "duration": 0.825667,
     "end_time": "2021-03-23T23:33:57.447379",
     "exception": false,
     "start_time": "2021-03-23T23:33:56.621712",
     "status": "completed"
    },
    "tags": []
   },
   "outputs": [
    {
     "data": {
      "text/html": [
       "<div>\n",
       "<style scoped>\n",
       "    .dataframe tbody tr th:only-of-type {\n",
       "        vertical-align: middle;\n",
       "    }\n",
       "\n",
       "    .dataframe tbody tr th {\n",
       "        vertical-align: top;\n",
       "    }\n",
       "\n",
       "    .dataframe thead th {\n",
       "        text-align: right;\n",
       "    }\n",
       "</style>\n",
       "<table border=\"1\" class=\"dataframe\">\n",
       "  <thead>\n",
       "    <tr style=\"text-align: right;\">\n",
       "      <th></th>\n",
       "      <th>id</th>\n",
       "      <th>target</th>\n",
       "    </tr>\n",
       "  </thead>\n",
       "  <tbody>\n",
       "    <tr>\n",
       "      <th>0</th>\n",
       "      <td>5</td>\n",
       "      <td>0.497524</td>\n",
       "    </tr>\n",
       "    <tr>\n",
       "      <th>1</th>\n",
       "      <td>6</td>\n",
       "      <td>0.768819</td>\n",
       "    </tr>\n",
       "    <tr>\n",
       "      <th>2</th>\n",
       "      <td>8</td>\n",
       "      <td>0.063849</td>\n",
       "    </tr>\n",
       "  </tbody>\n",
       "</table>\n",
       "</div>"
      ],
      "text/plain": [
       "   id    target\n",
       "0   5  0.497524\n",
       "1   6  0.768819\n",
       "2   8  0.063849"
      ]
     },
     "execution_count": 17,
     "metadata": {},
     "output_type": "execute_result"
    }
   ],
   "source": [
    "best_sub3 = pd.read_csv('../input/tps-mar-2021/submission_pc.csv')\n",
    "submission['target'] = (rankdata(submission.target) * 0.2 + rankdata(best_sub3.target) * 0.8)/len(submission)\n",
    "submission.to_csv('submission 4.csv', index=False)\n",
    "submission.head(3)"
   ]
  },
  {
   "cell_type": "code",
   "execution_count": 18,
   "metadata": {
    "execution": {
     "iopub.execute_input": "2021-03-23T23:33:57.506551Z",
     "iopub.status.busy": "2021-03-23T23:33:57.505442Z",
     "iopub.status.idle": "2021-03-23T23:33:58.315749Z",
     "shell.execute_reply": "2021-03-23T23:33:58.315113Z"
    },
    "papermill": {
     "duration": 0.842205,
     "end_time": "2021-03-23T23:33:58.315907",
     "exception": false,
     "start_time": "2021-03-23T23:33:57.473702",
     "status": "completed"
    },
    "tags": []
   },
   "outputs": [
    {
     "data": {
      "text/html": [
       "<div>\n",
       "<style scoped>\n",
       "    .dataframe tbody tr th:only-of-type {\n",
       "        vertical-align: middle;\n",
       "    }\n",
       "\n",
       "    .dataframe tbody tr th {\n",
       "        vertical-align: top;\n",
       "    }\n",
       "\n",
       "    .dataframe thead th {\n",
       "        text-align: right;\n",
       "    }\n",
       "</style>\n",
       "<table border=\"1\" class=\"dataframe\">\n",
       "  <thead>\n",
       "    <tr style=\"text-align: right;\">\n",
       "      <th></th>\n",
       "      <th>id</th>\n",
       "      <th>target</th>\n",
       "    </tr>\n",
       "  </thead>\n",
       "  <tbody>\n",
       "    <tr>\n",
       "      <th>0</th>\n",
       "      <td>5</td>\n",
       "      <td>0.497518</td>\n",
       "    </tr>\n",
       "    <tr>\n",
       "      <th>1</th>\n",
       "      <td>6</td>\n",
       "      <td>0.768771</td>\n",
       "    </tr>\n",
       "    <tr>\n",
       "      <th>2</th>\n",
       "      <td>8</td>\n",
       "      <td>0.063854</td>\n",
       "    </tr>\n",
       "  </tbody>\n",
       "</table>\n",
       "</div>"
      ],
      "text/plain": [
       "   id    target\n",
       "0   5  0.497518\n",
       "1   6  0.768771\n",
       "2   8  0.063854"
      ]
     },
     "execution_count": 18,
     "metadata": {},
     "output_type": "execute_result"
    }
   ],
   "source": [
    "best_sub4 = pd.read_csv('../input/tps-mar-2021/submission_pc.csv')\n",
    "submission['target'] = (rankdata(submission.target) * 0.275 + rankdata(best_sub4.target) * 0.725)/len(submission)\n",
    "submission.to_csv('submission 5.csv', index=False)\n",
    "submission.head(3)"
   ]
  },
  {
   "cell_type": "markdown",
   "metadata": {
    "papermill": {
     "duration": 0.025594,
     "end_time": "2021-03-23T23:33:58.367431",
     "exception": false,
     "start_time": "2021-03-23T23:33:58.341837",
     "status": "completed"
    },
    "tags": []
   },
   "source": [
    "Baseline :\n",
    "* https://www.kaggle.com/siavrez/kerasembeddings/data#data"
   ]
  }
 ],
 "metadata": {
  "kernelspec": {
   "display_name": "Python 3",
   "language": "python",
   "name": "python3"
  },
  "language_info": {
   "codemirror_mode": {
    "name": "ipython",
    "version": 3
   },
   "file_extension": ".py",
   "mimetype": "text/x-python",
   "name": "python",
   "nbconvert_exporter": "python",
   "pygments_lexer": "ipython3",
   "version": "3.7.9"
  },
  "papermill": {
   "default_parameters": {},
   "duration": 7198.965738,
   "end_time": "2021-03-23T23:34:00.310899",
   "environment_variables": {},
   "exception": null,
   "input_path": "__notebook__.ipynb",
   "output_path": "__notebook__.ipynb",
   "parameters": {},
   "start_time": "2021-03-23T21:34:01.345161",
   "version": "2.2.2"
  }
 },
 "nbformat": 4,
 "nbformat_minor": 4
}
